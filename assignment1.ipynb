{
 "cells": [
  {
   "cell_type": "code",
   "execution_count": 1,
   "id": "95046b41",
   "metadata": {},
   "outputs": [],
   "source": [
    "import pandas as pd\n",
    "import seaborn as sns\n",
    "from matplotlib import pyplot as plt\n",
    "import numpy as np\n",
    "%matplotlib inline\n",
    "pd.pandas.set_option('display.max.columns', None)"
   ]
  },
  {
   "cell_type": "code",
   "execution_count": 6,
   "id": "79bc4301",
   "metadata": {},
   "outputs": [],
   "source": [
    "df= pd.read_csv(\"Assignment1.csv\")"
   ]
  },
  {
   "cell_type": "code",
   "execution_count": 7,
   "id": "4e2d6eff",
   "metadata": {},
   "outputs": [
    {
     "data": {
      "text/html": [
       "<div>\n",
       "<style scoped>\n",
       "    .dataframe tbody tr th:only-of-type {\n",
       "        vertical-align: middle;\n",
       "    }\n",
       "\n",
       "    .dataframe tbody tr th {\n",
       "        vertical-align: top;\n",
       "    }\n",
       "\n",
       "    .dataframe thead th {\n",
       "        text-align: right;\n",
       "    }\n",
       "</style>\n",
       "<table border=\"1\" class=\"dataframe\">\n",
       "  <thead>\n",
       "    <tr style=\"text-align: right;\">\n",
       "      <th></th>\n",
       "      <th>Transaction date</th>\n",
       "      <th>House Age</th>\n",
       "      <th>Distance from nearest Metro station (km)</th>\n",
       "      <th>Number of convenience stores</th>\n",
       "      <th>latitude</th>\n",
       "      <th>longitude</th>\n",
       "      <th>Number of bedrooms</th>\n",
       "      <th>House size (sqft)</th>\n",
       "      <th>House price of unit area</th>\n",
       "    </tr>\n",
       "  </thead>\n",
       "  <tbody>\n",
       "    <tr>\n",
       "      <th>0</th>\n",
       "      <td>2012.917</td>\n",
       "      <td>32.0</td>\n",
       "      <td>84.87882</td>\n",
       "      <td>10</td>\n",
       "      <td>24.98298</td>\n",
       "      <td>121.54024</td>\n",
       "      <td>1</td>\n",
       "      <td>575</td>\n",
       "      <td>37.9</td>\n",
       "    </tr>\n",
       "    <tr>\n",
       "      <th>1</th>\n",
       "      <td>2012.917</td>\n",
       "      <td>19.5</td>\n",
       "      <td>306.59470</td>\n",
       "      <td>9</td>\n",
       "      <td>24.98034</td>\n",
       "      <td>121.53951</td>\n",
       "      <td>2</td>\n",
       "      <td>1240</td>\n",
       "      <td>42.2</td>\n",
       "    </tr>\n",
       "    <tr>\n",
       "      <th>2</th>\n",
       "      <td>2013.583</td>\n",
       "      <td>13.3</td>\n",
       "      <td>561.98450</td>\n",
       "      <td>5</td>\n",
       "      <td>24.98746</td>\n",
       "      <td>121.54391</td>\n",
       "      <td>3</td>\n",
       "      <td>1060</td>\n",
       "      <td>47.3</td>\n",
       "    </tr>\n",
       "    <tr>\n",
       "      <th>3</th>\n",
       "      <td>2013.500</td>\n",
       "      <td>13.3</td>\n",
       "      <td>561.98450</td>\n",
       "      <td>5</td>\n",
       "      <td>24.98746</td>\n",
       "      <td>121.54391</td>\n",
       "      <td>2</td>\n",
       "      <td>875</td>\n",
       "      <td>54.8</td>\n",
       "    </tr>\n",
       "    <tr>\n",
       "      <th>4</th>\n",
       "      <td>2012.833</td>\n",
       "      <td>5.0</td>\n",
       "      <td>390.56840</td>\n",
       "      <td>5</td>\n",
       "      <td>24.97937</td>\n",
       "      <td>121.54245</td>\n",
       "      <td>1</td>\n",
       "      <td>491</td>\n",
       "      <td>43.1</td>\n",
       "    </tr>\n",
       "    <tr>\n",
       "      <th>...</th>\n",
       "      <td>...</td>\n",
       "      <td>...</td>\n",
       "      <td>...</td>\n",
       "      <td>...</td>\n",
       "      <td>...</td>\n",
       "      <td>...</td>\n",
       "      <td>...</td>\n",
       "      <td>...</td>\n",
       "      <td>...</td>\n",
       "    </tr>\n",
       "    <tr>\n",
       "      <th>409</th>\n",
       "      <td>2013.000</td>\n",
       "      <td>13.7</td>\n",
       "      <td>4082.01500</td>\n",
       "      <td>0</td>\n",
       "      <td>24.94155</td>\n",
       "      <td>121.50381</td>\n",
       "      <td>3</td>\n",
       "      <td>803</td>\n",
       "      <td>15.4</td>\n",
       "    </tr>\n",
       "    <tr>\n",
       "      <th>410</th>\n",
       "      <td>2012.667</td>\n",
       "      <td>5.6</td>\n",
       "      <td>90.45606</td>\n",
       "      <td>9</td>\n",
       "      <td>24.97433</td>\n",
       "      <td>121.54310</td>\n",
       "      <td>2</td>\n",
       "      <td>1278</td>\n",
       "      <td>50.0</td>\n",
       "    </tr>\n",
       "    <tr>\n",
       "      <th>411</th>\n",
       "      <td>2013.250</td>\n",
       "      <td>18.8</td>\n",
       "      <td>390.96960</td>\n",
       "      <td>7</td>\n",
       "      <td>24.97923</td>\n",
       "      <td>121.53986</td>\n",
       "      <td>1</td>\n",
       "      <td>503</td>\n",
       "      <td>40.6</td>\n",
       "    </tr>\n",
       "    <tr>\n",
       "      <th>412</th>\n",
       "      <td>2013.000</td>\n",
       "      <td>8.1</td>\n",
       "      <td>104.81010</td>\n",
       "      <td>5</td>\n",
       "      <td>24.96674</td>\n",
       "      <td>121.54067</td>\n",
       "      <td>1</td>\n",
       "      <td>597</td>\n",
       "      <td>52.5</td>\n",
       "    </tr>\n",
       "    <tr>\n",
       "      <th>413</th>\n",
       "      <td>2013.500</td>\n",
       "      <td>6.5</td>\n",
       "      <td>90.45606</td>\n",
       "      <td>9</td>\n",
       "      <td>24.97433</td>\n",
       "      <td>121.54310</td>\n",
       "      <td>2</td>\n",
       "      <td>1097</td>\n",
       "      <td>63.9</td>\n",
       "    </tr>\n",
       "  </tbody>\n",
       "</table>\n",
       "<p>414 rows × 9 columns</p>\n",
       "</div>"
      ],
      "text/plain": [
       "     Transaction date  House Age  Distance from nearest Metro station (km)  \\\n",
       "0            2012.917       32.0                                  84.87882   \n",
       "1            2012.917       19.5                                 306.59470   \n",
       "2            2013.583       13.3                                 561.98450   \n",
       "3            2013.500       13.3                                 561.98450   \n",
       "4            2012.833        5.0                                 390.56840   \n",
       "..                ...        ...                                       ...   \n",
       "409          2013.000       13.7                                4082.01500   \n",
       "410          2012.667        5.6                                  90.45606   \n",
       "411          2013.250       18.8                                 390.96960   \n",
       "412          2013.000        8.1                                 104.81010   \n",
       "413          2013.500        6.5                                  90.45606   \n",
       "\n",
       "     Number of convenience stores  latitude  longitude  Number of bedrooms  \\\n",
       "0                              10  24.98298  121.54024                   1   \n",
       "1                               9  24.98034  121.53951                   2   \n",
       "2                               5  24.98746  121.54391                   3   \n",
       "3                               5  24.98746  121.54391                   2   \n",
       "4                               5  24.97937  121.54245                   1   \n",
       "..                            ...       ...        ...                 ...   \n",
       "409                             0  24.94155  121.50381                   3   \n",
       "410                             9  24.97433  121.54310                   2   \n",
       "411                             7  24.97923  121.53986                   1   \n",
       "412                             5  24.96674  121.54067                   1   \n",
       "413                             9  24.97433  121.54310                   2   \n",
       "\n",
       "     House size (sqft)  House price of unit area  \n",
       "0                  575                      37.9  \n",
       "1                 1240                      42.2  \n",
       "2                 1060                      47.3  \n",
       "3                  875                      54.8  \n",
       "4                  491                      43.1  \n",
       "..                 ...                       ...  \n",
       "409                803                      15.4  \n",
       "410               1278                      50.0  \n",
       "411                503                      40.6  \n",
       "412                597                      52.5  \n",
       "413               1097                      63.9  \n",
       "\n",
       "[414 rows x 9 columns]"
      ]
     },
     "execution_count": 7,
     "metadata": {},
     "output_type": "execute_result"
    }
   ],
   "source": [
    "df"
   ]
  },
  {
   "cell_type": "code",
   "execution_count": 5,
   "id": "902c066b",
   "metadata": {},
   "outputs": [
    {
     "data": {
      "text/plain": [
       "(414, 9)"
      ]
     },
     "execution_count": 5,
     "metadata": {},
     "output_type": "execute_result"
    }
   ],
   "source": [
    "df.shape"
   ]
  },
  {
   "cell_type": "code",
   "execution_count": 5,
   "id": "a19a60b3",
   "metadata": {
    "scrolled": true
   },
   "outputs": [
    {
     "data": {
      "text/html": [
       "<div>\n",
       "<style scoped>\n",
       "    .dataframe tbody tr th:only-of-type {\n",
       "        vertical-align: middle;\n",
       "    }\n",
       "\n",
       "    .dataframe tbody tr th {\n",
       "        vertical-align: top;\n",
       "    }\n",
       "\n",
       "    .dataframe thead th {\n",
       "        text-align: right;\n",
       "    }\n",
       "</style>\n",
       "<table border=\"1\" class=\"dataframe\">\n",
       "  <thead>\n",
       "    <tr style=\"text-align: right;\">\n",
       "      <th></th>\n",
       "      <th>Transaction date</th>\n",
       "      <th>House Age</th>\n",
       "      <th>Distance from nearest Metro station (km)</th>\n",
       "      <th>Number of convenience stores</th>\n",
       "      <th>latitude</th>\n",
       "      <th>longitude</th>\n",
       "      <th>Number of bedrooms</th>\n",
       "      <th>House size (sqft)</th>\n",
       "      <th>House price of unit area</th>\n",
       "    </tr>\n",
       "  </thead>\n",
       "  <tbody>\n",
       "    <tr>\n",
       "      <th>count</th>\n",
       "      <td>414.000000</td>\n",
       "      <td>414.000000</td>\n",
       "      <td>414.000000</td>\n",
       "      <td>414.000000</td>\n",
       "      <td>414.000000</td>\n",
       "      <td>414.000000</td>\n",
       "      <td>414.000000</td>\n",
       "      <td>414.000000</td>\n",
       "      <td>414.000000</td>\n",
       "    </tr>\n",
       "    <tr>\n",
       "      <th>mean</th>\n",
       "      <td>2013.148971</td>\n",
       "      <td>17.712560</td>\n",
       "      <td>1083.885689</td>\n",
       "      <td>4.094203</td>\n",
       "      <td>24.969030</td>\n",
       "      <td>121.533361</td>\n",
       "      <td>1.987923</td>\n",
       "      <td>931.475845</td>\n",
       "      <td>37.980193</td>\n",
       "    </tr>\n",
       "    <tr>\n",
       "      <th>std</th>\n",
       "      <td>0.281967</td>\n",
       "      <td>11.392485</td>\n",
       "      <td>1262.109595</td>\n",
       "      <td>2.945562</td>\n",
       "      <td>0.012410</td>\n",
       "      <td>0.015347</td>\n",
       "      <td>0.818875</td>\n",
       "      <td>348.910269</td>\n",
       "      <td>13.606488</td>\n",
       "    </tr>\n",
       "    <tr>\n",
       "      <th>min</th>\n",
       "      <td>2012.667000</td>\n",
       "      <td>0.000000</td>\n",
       "      <td>23.382840</td>\n",
       "      <td>0.000000</td>\n",
       "      <td>24.932070</td>\n",
       "      <td>121.473530</td>\n",
       "      <td>1.000000</td>\n",
       "      <td>402.000000</td>\n",
       "      <td>7.600000</td>\n",
       "    </tr>\n",
       "    <tr>\n",
       "      <th>25%</th>\n",
       "      <td>2012.917000</td>\n",
       "      <td>9.025000</td>\n",
       "      <td>289.324800</td>\n",
       "      <td>1.000000</td>\n",
       "      <td>24.963000</td>\n",
       "      <td>121.528085</td>\n",
       "      <td>1.000000</td>\n",
       "      <td>548.000000</td>\n",
       "      <td>27.700000</td>\n",
       "    </tr>\n",
       "    <tr>\n",
       "      <th>50%</th>\n",
       "      <td>2013.167000</td>\n",
       "      <td>16.100000</td>\n",
       "      <td>492.231300</td>\n",
       "      <td>4.000000</td>\n",
       "      <td>24.971100</td>\n",
       "      <td>121.538630</td>\n",
       "      <td>2.000000</td>\n",
       "      <td>975.000000</td>\n",
       "      <td>38.450000</td>\n",
       "    </tr>\n",
       "    <tr>\n",
       "      <th>75%</th>\n",
       "      <td>2013.417000</td>\n",
       "      <td>28.150000</td>\n",
       "      <td>1454.279000</td>\n",
       "      <td>6.000000</td>\n",
       "      <td>24.977455</td>\n",
       "      <td>121.543305</td>\n",
       "      <td>3.000000</td>\n",
       "      <td>1234.750000</td>\n",
       "      <td>46.600000</td>\n",
       "    </tr>\n",
       "    <tr>\n",
       "      <th>max</th>\n",
       "      <td>2013.583000</td>\n",
       "      <td>43.800000</td>\n",
       "      <td>6488.021000</td>\n",
       "      <td>10.000000</td>\n",
       "      <td>25.014590</td>\n",
       "      <td>121.566270</td>\n",
       "      <td>3.000000</td>\n",
       "      <td>1500.000000</td>\n",
       "      <td>117.500000</td>\n",
       "    </tr>\n",
       "  </tbody>\n",
       "</table>\n",
       "</div>"
      ],
      "text/plain": [
       "       Transaction date   House Age  Distance from nearest Metro station (km)  \\\n",
       "count        414.000000  414.000000                                414.000000   \n",
       "mean        2013.148971   17.712560                               1083.885689   \n",
       "std            0.281967   11.392485                               1262.109595   \n",
       "min         2012.667000    0.000000                                 23.382840   \n",
       "25%         2012.917000    9.025000                                289.324800   \n",
       "50%         2013.167000   16.100000                                492.231300   \n",
       "75%         2013.417000   28.150000                               1454.279000   \n",
       "max         2013.583000   43.800000                               6488.021000   \n",
       "\n",
       "       Number of convenience stores    latitude   longitude  \\\n",
       "count                    414.000000  414.000000  414.000000   \n",
       "mean                       4.094203   24.969030  121.533361   \n",
       "std                        2.945562    0.012410    0.015347   \n",
       "min                        0.000000   24.932070  121.473530   \n",
       "25%                        1.000000   24.963000  121.528085   \n",
       "50%                        4.000000   24.971100  121.538630   \n",
       "75%                        6.000000   24.977455  121.543305   \n",
       "max                       10.000000   25.014590  121.566270   \n",
       "\n",
       "       Number of bedrooms  House size (sqft)  House price of unit area  \n",
       "count          414.000000         414.000000                414.000000  \n",
       "mean             1.987923         931.475845                 37.980193  \n",
       "std              0.818875         348.910269                 13.606488  \n",
       "min              1.000000         402.000000                  7.600000  \n",
       "25%              1.000000         548.000000                 27.700000  \n",
       "50%              2.000000         975.000000                 38.450000  \n",
       "75%              3.000000        1234.750000                 46.600000  \n",
       "max              3.000000        1500.000000                117.500000  "
      ]
     },
     "execution_count": 5,
     "metadata": {},
     "output_type": "execute_result"
    }
   ],
   "source": [
    "df.describe()"
   ]
  },
  {
   "cell_type": "code",
   "execution_count": 5,
   "id": "f181a075",
   "metadata": {},
   "outputs": [
    {
     "data": {
      "text/plain": [
       "<seaborn.axisgrid.JointGrid at 0x16bdbb222e0>"
      ]
     },
     "execution_count": 5,
     "metadata": {},
     "output_type": "execute_result"
    },
    {
     "data": {
      "image/png": "[encoded data removed]",
      "text/plain": [
       "<Figure size 600x600 with 3 Axes>"
      ]
     },
     "metadata": {},
     "output_type": "display_data"
    }
   ],
   "source": [
    "sns.jointplot(x='Number of bedrooms', y='House price of unit area', data=df)"
   ]
  },
  {
   "cell_type": "code",
   "execution_count": 6,
   "id": "7a248567",
   "metadata": {},
   "outputs": [
    {
     "data": {
      "text/plain": [
       "<seaborn.axisgrid.JointGrid at 0x16be173faf0>"
      ]
     },
     "execution_count": 6,
     "metadata": {},
     "output_type": "execute_result"
    },
    {
     "data": {
      "image/png": "[encoded data removed]",
      "text/plain": [
       "<Figure size 600x600 with 3 Axes>"
      ]
     },
     "metadata": {},
     "output_type": "display_data"
    }
   ],
   "source": [
    "sns.jointplot(x='Number of convenience stores', y='House price of unit area',data= df)"
   ]
  },
  {
   "cell_type": "code",
   "execution_count": 7,
   "id": "7b43af6a",
   "metadata": {},
   "outputs": [
    {
     "data": {
      "text/html": [
       "<div>\n",
       "<style scoped>\n",
       "    .dataframe tbody tr th:only-of-type {\n",
       "        vertical-align: middle;\n",
       "    }\n",
       "\n",
       "    .dataframe tbody tr th {\n",
       "        vertical-align: top;\n",
       "    }\n",
       "\n",
       "    .dataframe thead th {\n",
       "        text-align: right;\n",
       "    }\n",
       "</style>\n",
       "<table border=\"1\" class=\"dataframe\">\n",
       "  <thead>\n",
       "    <tr style=\"text-align: right;\">\n",
       "      <th></th>\n",
       "      <th>Transaction date</th>\n",
       "      <th>House Age</th>\n",
       "      <th>Distance from nearest Metro station (km)</th>\n",
       "      <th>Number of convenience stores</th>\n",
       "      <th>latitude</th>\n",
       "      <th>longitude</th>\n",
       "      <th>Number of bedrooms</th>\n",
       "      <th>House size (sqft)</th>\n",
       "      <th>House price of unit area</th>\n",
       "    </tr>\n",
       "  </thead>\n",
       "  <tbody>\n",
       "    <tr>\n",
       "      <th>0</th>\n",
       "      <td>2012.917</td>\n",
       "      <td>32.0</td>\n",
       "      <td>84.87882</td>\n",
       "      <td>10</td>\n",
       "      <td>24.98298</td>\n",
       "      <td>121.54024</td>\n",
       "      <td>1</td>\n",
       "      <td>575</td>\n",
       "      <td>37.9</td>\n",
       "    </tr>\n",
       "    <tr>\n",
       "      <th>1</th>\n",
       "      <td>2012.917</td>\n",
       "      <td>19.5</td>\n",
       "      <td>306.59470</td>\n",
       "      <td>9</td>\n",
       "      <td>24.98034</td>\n",
       "      <td>121.53951</td>\n",
       "      <td>2</td>\n",
       "      <td>1240</td>\n",
       "      <td>42.2</td>\n",
       "    </tr>\n",
       "    <tr>\n",
       "      <th>2</th>\n",
       "      <td>2013.583</td>\n",
       "      <td>13.3</td>\n",
       "      <td>561.98450</td>\n",
       "      <td>5</td>\n",
       "      <td>24.98746</td>\n",
       "      <td>121.54391</td>\n",
       "      <td>3</td>\n",
       "      <td>1060</td>\n",
       "      <td>47.3</td>\n",
       "    </tr>\n",
       "    <tr>\n",
       "      <th>3</th>\n",
       "      <td>2013.500</td>\n",
       "      <td>13.3</td>\n",
       "      <td>561.98450</td>\n",
       "      <td>5</td>\n",
       "      <td>24.98746</td>\n",
       "      <td>121.54391</td>\n",
       "      <td>2</td>\n",
       "      <td>875</td>\n",
       "      <td>54.8</td>\n",
       "    </tr>\n",
       "    <tr>\n",
       "      <th>4</th>\n",
       "      <td>2012.833</td>\n",
       "      <td>5.0</td>\n",
       "      <td>390.56840</td>\n",
       "      <td>5</td>\n",
       "      <td>24.97937</td>\n",
       "      <td>121.54245</td>\n",
       "      <td>1</td>\n",
       "      <td>491</td>\n",
       "      <td>43.1</td>\n",
       "    </tr>\n",
       "    <tr>\n",
       "      <th>...</th>\n",
       "      <td>...</td>\n",
       "      <td>...</td>\n",
       "      <td>...</td>\n",
       "      <td>...</td>\n",
       "      <td>...</td>\n",
       "      <td>...</td>\n",
       "      <td>...</td>\n",
       "      <td>...</td>\n",
       "      <td>...</td>\n",
       "    </tr>\n",
       "    <tr>\n",
       "      <th>409</th>\n",
       "      <td>2013.000</td>\n",
       "      <td>13.7</td>\n",
       "      <td>4082.01500</td>\n",
       "      <td>0</td>\n",
       "      <td>24.94155</td>\n",
       "      <td>121.50381</td>\n",
       "      <td>3</td>\n",
       "      <td>803</td>\n",
       "      <td>15.4</td>\n",
       "    </tr>\n",
       "    <tr>\n",
       "      <th>410</th>\n",
       "      <td>2012.667</td>\n",
       "      <td>5.6</td>\n",
       "      <td>90.45606</td>\n",
       "      <td>9</td>\n",
       "      <td>24.97433</td>\n",
       "      <td>121.54310</td>\n",
       "      <td>2</td>\n",
       "      <td>1278</td>\n",
       "      <td>50.0</td>\n",
       "    </tr>\n",
       "    <tr>\n",
       "      <th>411</th>\n",
       "      <td>2013.250</td>\n",
       "      <td>18.8</td>\n",
       "      <td>390.96960</td>\n",
       "      <td>7</td>\n",
       "      <td>24.97923</td>\n",
       "      <td>121.53986</td>\n",
       "      <td>1</td>\n",
       "      <td>503</td>\n",
       "      <td>40.6</td>\n",
       "    </tr>\n",
       "    <tr>\n",
       "      <th>412</th>\n",
       "      <td>2013.000</td>\n",
       "      <td>8.1</td>\n",
       "      <td>104.81010</td>\n",
       "      <td>5</td>\n",
       "      <td>24.96674</td>\n",
       "      <td>121.54067</td>\n",
       "      <td>1</td>\n",
       "      <td>597</td>\n",
       "      <td>52.5</td>\n",
       "    </tr>\n",
       "    <tr>\n",
       "      <th>413</th>\n",
       "      <td>2013.500</td>\n",
       "      <td>6.5</td>\n",
       "      <td>90.45606</td>\n",
       "      <td>9</td>\n",
       "      <td>24.97433</td>\n",
       "      <td>121.54310</td>\n",
       "      <td>2</td>\n",
       "      <td>1097</td>\n",
       "      <td>63.9</td>\n",
       "    </tr>\n",
       "  </tbody>\n",
       "</table>\n",
       "<p>414 rows × 9 columns</p>\n",
       "</div>"
      ],
      "text/plain": [
       "     Transaction date  House Age  Distance from nearest Metro station (km)  \\\n",
       "0            2012.917       32.0                                  84.87882   \n",
       "1            2012.917       19.5                                 306.59470   \n",
       "2            2013.583       13.3                                 561.98450   \n",
       "3            2013.500       13.3                                 561.98450   \n",
       "4            2012.833        5.0                                 390.56840   \n",
       "..                ...        ...                                       ...   \n",
       "409          2013.000       13.7                                4082.01500   \n",
       "410          2012.667        5.6                                  90.45606   \n",
       "411          2013.250       18.8                                 390.96960   \n",
       "412          2013.000        8.1                                 104.81010   \n",
       "413          2013.500        6.5                                  90.45606   \n",
       "\n",
       "     Number of convenience stores  latitude  longitude  Number of bedrooms  \\\n",
       "0                              10  24.98298  121.54024                   1   \n",
       "1                               9  24.98034  121.53951                   2   \n",
       "2                               5  24.98746  121.54391                   3   \n",
       "3                               5  24.98746  121.54391                   2   \n",
       "4                               5  24.97937  121.54245                   1   \n",
       "..                            ...       ...        ...                 ...   \n",
       "409                             0  24.94155  121.50381                   3   \n",
       "410                             9  24.97433  121.54310                   2   \n",
       "411                             7  24.97923  121.53986                   1   \n",
       "412                             5  24.96674  121.54067                   1   \n",
       "413                             9  24.97433  121.54310                   2   \n",
       "\n",
       "     House size (sqft)  House price of unit area  \n",
       "0                  575                      37.9  \n",
       "1                 1240                      42.2  \n",
       "2                 1060                      47.3  \n",
       "3                  875                      54.8  \n",
       "4                  491                      43.1  \n",
       "..                 ...                       ...  \n",
       "409                803                      15.4  \n",
       "410               1278                      50.0  \n",
       "411                503                      40.6  \n",
       "412                597                      52.5  \n",
       "413               1097                      63.9  \n",
       "\n",
       "[414 rows x 9 columns]"
      ]
     },
     "execution_count": 7,
     "metadata": {},
     "output_type": "execute_result"
    }
   ],
   "source": [
    "df"
   ]
  },
  {
   "cell_type": "code",
   "execution_count": 8,
   "id": "a4726412",
   "metadata": {
    "scrolled": true
   },
   "outputs": [
    {
     "data": {
      "image/png": "[encoded data removed]",
      "text/plain": [
       "<Figure size 1200x600 with 1 Axes>"
      ]
     },
     "metadata": {},
     "output_type": "display_data"
    }
   ],
   "source": [
    "plt.figure(figsize=(12,6))\n",
    "plt.title(\"Age affecting the house price\")\n",
    "#plt.xlabel(\"House Age\")\n",
    "#plt.ylabel(\"House price of unit area\")\n",
    "plt.hist(df[\"House Age\"], bins= 10, color='blue', edgecolor='black');\n"
   ]
  },
  {
   "cell_type": "code",
   "execution_count": 9,
   "id": "f365a4ab",
   "metadata": {},
   "outputs": [
    {
     "data": {
      "text/plain": [
       "(109, 9)"
      ]
     },
     "execution_count": 9,
     "metadata": {},
     "output_type": "execute_result"
    }
   ],
   "source": [
    "df1=df[df[\"House Age\"]>25]\n",
    "df1=df1[df1[\"House Age\"]<40]\n",
    "df1.shape"
   ]
  },
  {
   "cell_type": "code",
   "execution_count": 10,
   "id": "05b5e21d",
   "metadata": {},
   "outputs": [
    {
     "data": {
      "image/png": "[encoded data removed]",
      "text/plain": [
       "<Figure size 1200x600 with 1 Axes>"
      ]
     },
     "metadata": {},
     "output_type": "display_data"
    }
   ],
   "source": [
    "plt.figure(figsize=(12,6))\n",
    "plt.title(\"Age affecting the house price\")\n",
    "#plt.xlabel(\"House Age\")\n",
    "#plt.ylabel(\"House price of unit area\")\n",
    "plt.hist(df1[\"House Age\"], bins= 10, color='blue', edgecolor='black');"
   ]
  },
  {
   "cell_type": "code",
   "execution_count": null,
   "id": "e0f71d3e",
   "metadata": {},
   "outputs": [],
   "source": [
    "With increasing house age froom 26-"
   ]
  },
  {
   "cell_type": "code",
   "execution_count": 132,
   "id": "4387380e",
   "metadata": {},
   "outputs": [
    {
     "data": {
      "text/plain": [
       "<function seaborn.axisgrid.jointplot(*, x=None, y=None, data=None, kind='scatter', color=None, height=6, ratio=5, space=0.2, dropna=False, xlim=None, ylim=None, marginal_ticks=False, joint_kws=None, marginal_kws=None, hue=None, palette=None, hue_order=None, hue_norm=None, **kwargs)>"
      ]
     },
     "execution_count": 132,
     "metadata": {},
     "output_type": "execute_result"
    }
   ],
   "source": [
    "sns.jointplot"
   ]
  },
  {
   "cell_type": "code",
   "execution_count": 133,
   "id": "cbe284e7",
   "metadata": {},
   "outputs": [],
   "source": [
    "features_with_na=[features for features in df.columns if df[features].isnull().sum()>1]\n",
    "for feature in features_with_na:\n",
    "    print(feature, np.round(df[feature].isnull().mean(), 4), '%missing values')"
   ]
  },
  {
   "cell_type": "code",
   "execution_count": 13,
   "id": "85a57e23",
   "metadata": {
    "scrolled": true
   },
   "outputs": [
    {
     "data": {
      "text/html": [
       "<div>\n",
       "<style scoped>\n",
       "    .dataframe tbody tr th:only-of-type {\n",
       "        vertical-align: middle;\n",
       "    }\n",
       "\n",
       "    .dataframe tbody tr th {\n",
       "        vertical-align: top;\n",
       "    }\n",
       "\n",
       "    .dataframe thead th {\n",
       "        text-align: right;\n",
       "    }\n",
       "</style>\n",
       "<table border=\"1\" class=\"dataframe\">\n",
       "  <thead>\n",
       "    <tr style=\"text-align: right;\">\n",
       "      <th></th>\n",
       "      <th>Transaction date</th>\n",
       "      <th>House Age</th>\n",
       "      <th>Distance from nearest Metro station (km)</th>\n",
       "      <th>Number of convenience stores</th>\n",
       "      <th>latitude</th>\n",
       "      <th>longitude</th>\n",
       "      <th>Number of bedrooms</th>\n",
       "      <th>House size (sqft)</th>\n",
       "      <th>House price of unit area</th>\n",
       "    </tr>\n",
       "  </thead>\n",
       "  <tbody>\n",
       "    <tr>\n",
       "      <th>0</th>\n",
       "      <td>2012.917</td>\n",
       "      <td>32.0</td>\n",
       "      <td>84.87882</td>\n",
       "      <td>10</td>\n",
       "      <td>24.98298</td>\n",
       "      <td>121.54024</td>\n",
       "      <td>1</td>\n",
       "      <td>575</td>\n",
       "      <td>37.9</td>\n",
       "    </tr>\n",
       "    <tr>\n",
       "      <th>1</th>\n",
       "      <td>2012.917</td>\n",
       "      <td>19.5</td>\n",
       "      <td>306.59470</td>\n",
       "      <td>9</td>\n",
       "      <td>24.98034</td>\n",
       "      <td>121.53951</td>\n",
       "      <td>2</td>\n",
       "      <td>1240</td>\n",
       "      <td>42.2</td>\n",
       "    </tr>\n",
       "    <tr>\n",
       "      <th>2</th>\n",
       "      <td>2013.583</td>\n",
       "      <td>13.3</td>\n",
       "      <td>561.98450</td>\n",
       "      <td>5</td>\n",
       "      <td>24.98746</td>\n",
       "      <td>121.54391</td>\n",
       "      <td>3</td>\n",
       "      <td>1060</td>\n",
       "      <td>47.3</td>\n",
       "    </tr>\n",
       "    <tr>\n",
       "      <th>3</th>\n",
       "      <td>2013.500</td>\n",
       "      <td>13.3</td>\n",
       "      <td>561.98450</td>\n",
       "      <td>5</td>\n",
       "      <td>24.98746</td>\n",
       "      <td>121.54391</td>\n",
       "      <td>2</td>\n",
       "      <td>875</td>\n",
       "      <td>54.8</td>\n",
       "    </tr>\n",
       "    <tr>\n",
       "      <th>4</th>\n",
       "      <td>2012.833</td>\n",
       "      <td>5.0</td>\n",
       "      <td>390.56840</td>\n",
       "      <td>5</td>\n",
       "      <td>24.97937</td>\n",
       "      <td>121.54245</td>\n",
       "      <td>1</td>\n",
       "      <td>491</td>\n",
       "      <td>43.1</td>\n",
       "    </tr>\n",
       "    <tr>\n",
       "      <th>...</th>\n",
       "      <td>...</td>\n",
       "      <td>...</td>\n",
       "      <td>...</td>\n",
       "      <td>...</td>\n",
       "      <td>...</td>\n",
       "      <td>...</td>\n",
       "      <td>...</td>\n",
       "      <td>...</td>\n",
       "      <td>...</td>\n",
       "    </tr>\n",
       "    <tr>\n",
       "      <th>409</th>\n",
       "      <td>2013.000</td>\n",
       "      <td>13.7</td>\n",
       "      <td>4082.01500</td>\n",
       "      <td>0</td>\n",
       "      <td>24.94155</td>\n",
       "      <td>121.50381</td>\n",
       "      <td>3</td>\n",
       "      <td>803</td>\n",
       "      <td>15.4</td>\n",
       "    </tr>\n",
       "    <tr>\n",
       "      <th>410</th>\n",
       "      <td>2012.667</td>\n",
       "      <td>5.6</td>\n",
       "      <td>90.45606</td>\n",
       "      <td>9</td>\n",
       "      <td>24.97433</td>\n",
       "      <td>121.54310</td>\n",
       "      <td>2</td>\n",
       "      <td>1278</td>\n",
       "      <td>50.0</td>\n",
       "    </tr>\n",
       "    <tr>\n",
       "      <th>411</th>\n",
       "      <td>2013.250</td>\n",
       "      <td>18.8</td>\n",
       "      <td>390.96960</td>\n",
       "      <td>7</td>\n",
       "      <td>24.97923</td>\n",
       "      <td>121.53986</td>\n",
       "      <td>1</td>\n",
       "      <td>503</td>\n",
       "      <td>40.6</td>\n",
       "    </tr>\n",
       "    <tr>\n",
       "      <th>412</th>\n",
       "      <td>2013.000</td>\n",
       "      <td>8.1</td>\n",
       "      <td>104.81010</td>\n",
       "      <td>5</td>\n",
       "      <td>24.96674</td>\n",
       "      <td>121.54067</td>\n",
       "      <td>1</td>\n",
       "      <td>597</td>\n",
       "      <td>52.5</td>\n",
       "    </tr>\n",
       "    <tr>\n",
       "      <th>413</th>\n",
       "      <td>2013.500</td>\n",
       "      <td>6.5</td>\n",
       "      <td>90.45606</td>\n",
       "      <td>9</td>\n",
       "      <td>24.97433</td>\n",
       "      <td>121.54310</td>\n",
       "      <td>2</td>\n",
       "      <td>1097</td>\n",
       "      <td>63.9</td>\n",
       "    </tr>\n",
       "  </tbody>\n",
       "</table>\n",
       "<p>414 rows × 9 columns</p>\n",
       "</div>"
      ],
      "text/plain": [
       "     Transaction date  House Age  Distance from nearest Metro station (km)  \\\n",
       "0            2012.917       32.0                                  84.87882   \n",
       "1            2012.917       19.5                                 306.59470   \n",
       "2            2013.583       13.3                                 561.98450   \n",
       "3            2013.500       13.3                                 561.98450   \n",
       "4            2012.833        5.0                                 390.56840   \n",
       "..                ...        ...                                       ...   \n",
       "409          2013.000       13.7                                4082.01500   \n",
       "410          2012.667        5.6                                  90.45606   \n",
       "411          2013.250       18.8                                 390.96960   \n",
       "412          2013.000        8.1                                 104.81010   \n",
       "413          2013.500        6.5                                  90.45606   \n",
       "\n",
       "     Number of convenience stores  latitude  longitude  Number of bedrooms  \\\n",
       "0                              10  24.98298  121.54024                   1   \n",
       "1                               9  24.98034  121.53951                   2   \n",
       "2                               5  24.98746  121.54391                   3   \n",
       "3                               5  24.98746  121.54391                   2   \n",
       "4                               5  24.97937  121.54245                   1   \n",
       "..                            ...       ...        ...                 ...   \n",
       "409                             0  24.94155  121.50381                   3   \n",
       "410                             9  24.97433  121.54310                   2   \n",
       "411                             7  24.97923  121.53986                   1   \n",
       "412                             5  24.96674  121.54067                   1   \n",
       "413                             9  24.97433  121.54310                   2   \n",
       "\n",
       "     House size (sqft)  House price of unit area  \n",
       "0                  575                      37.9  \n",
       "1                 1240                      42.2  \n",
       "2                 1060                      47.3  \n",
       "3                  875                      54.8  \n",
       "4                  491                      43.1  \n",
       "..                 ...                       ...  \n",
       "409                803                      15.4  \n",
       "410               1278                      50.0  \n",
       "411                503                      40.6  \n",
       "412                597                      52.5  \n",
       "413               1097                      63.9  \n",
       "\n",
       "[414 rows x 9 columns]"
      ]
     },
     "execution_count": 13,
     "metadata": {},
     "output_type": "execute_result"
    }
   ],
   "source": [
    "df"
   ]
  },
  {
   "cell_type": "code",
   "execution_count": 129,
   "id": "630a4ac5",
   "metadata": {},
   "outputs": [],
   "source": [
    "for feature in features_with_na:\n",
    "    data=df.copy()\n",
    "    data[feature]=np.where(data[feature].isnull(),1,0)\n",
    "    data.groupby(feature)['House price of unit area'].median().plot.bar()\n",
    "    plt.title(feature)\n",
    "    plt.show()"
   ]
  },
  {
   "cell_type": "code",
   "execution_count": 89,
   "id": "770ed920",
   "metadata": {},
   "outputs": [
    {
     "data": {
      "image/png": "[encoded data removed]",
      "text/plain": [
       "<Figure size 640x480 with 2 Axes>"
      ]
     },
     "metadata": {},
     "output_type": "display_data"
    }
   ],
   "source": [
    "ax=sns.heatmap(df.corr(),annot=True)"
   ]
  },
  {
   "cell_type": "markdown",
   "id": "550a9c78",
   "metadata": {},
   "source": [
    "**Distance from nearest Metro station and House price of unit area are highly negatively correlated.\n",
    "Number of convenience stores and Distance from nearest Metro station are higly negatively correlated.\n",
    "Distance from nearest Metro station and Latitude are highly negatively correlated.**\n"
   ]
  },
  {
   "cell_type": "code",
   "execution_count": 8,
   "id": "c8ada2d6",
   "metadata": {},
   "outputs": [],
   "source": [
    "import statsmodels.api as sn"
   ]
  },
  {
   "cell_type": "code",
   "execution_count": 9,
   "id": "30e0036c",
   "metadata": {},
   "outputs": [],
   "source": [
    "x = sn.add_constant(df['House Age'])"
   ]
  },
  {
   "cell_type": "code",
   "execution_count": 10,
   "id": "ab2e0fbf",
   "metadata": {},
   "outputs": [],
   "source": [
    "lm = sn.OLS(df['House price of unit area'], x).fit()"
   ]
  },
  {
   "cell_type": "code",
   "execution_count": 90,
   "id": "24e146f3",
   "metadata": {},
   "outputs": [
    {
     "data": {
      "text/html": [
       "<table class=\"simpletable\">\n",
       "<caption>OLS Regression Results</caption>\n",
       "<tr>\n",
       "  <th>Dep. Variable:</th>    <td>House price of unit area</td> <th>  R-squared:         </th> <td>   0.044</td>\n",
       "</tr>\n",
       "<tr>\n",
       "  <th>Model:</th>                       <td>OLS</td>           <th>  Adj. R-squared:    </th> <td>   0.042</td>\n",
       "</tr>\n",
       "<tr>\n",
       "  <th>Method:</th>                 <td>Least Squares</td>      <th>  F-statistic:       </th> <td>   19.11</td>\n",
       "</tr>\n",
       "<tr>\n",
       "  <th>Date:</th>                 <td>Mon, 05 Dec 2022</td>     <th>  Prob (F-statistic):</th> <td>1.56e-05</td>\n",
       "</tr>\n",
       "<tr>\n",
       "  <th>Time:</th>                     <td>22:09:01</td>         <th>  Log-Likelihood:    </th> <td> -1658.3</td>\n",
       "</tr>\n",
       "<tr>\n",
       "  <th>No. Observations:</th>          <td>   414</td>          <th>  AIC:               </th> <td>   3321.</td>\n",
       "</tr>\n",
       "<tr>\n",
       "  <th>Df Residuals:</th>              <td>   412</td>          <th>  BIC:               </th> <td>   3329.</td>\n",
       "</tr>\n",
       "<tr>\n",
       "  <th>Df Model:</th>                  <td>     1</td>          <th>                     </th>     <td> </td>   \n",
       "</tr>\n",
       "<tr>\n",
       "  <th>Covariance Type:</th>          <td>nonrobust</td>        <th>                     </th>     <td> </td>   \n",
       "</tr>\n",
       "</table>\n",
       "<table class=\"simpletable\">\n",
       "<tr>\n",
       "      <td></td>         <th>coef</th>     <th>std err</th>      <th>t</th>      <th>P>|t|</th>  <th>[0.025</th>    <th>0.975]</th>  \n",
       "</tr>\n",
       "<tr>\n",
       "  <th>const</th>     <td>   42.4347</td> <td>    1.211</td> <td>   35.042</td> <td> 0.000</td> <td>   40.054</td> <td>   44.815</td>\n",
       "</tr>\n",
       "<tr>\n",
       "  <th>House Age</th> <td>   -0.2515</td> <td>    0.058</td> <td>   -4.372</td> <td> 0.000</td> <td>   -0.365</td> <td>   -0.138</td>\n",
       "</tr>\n",
       "</table>\n",
       "<table class=\"simpletable\">\n",
       "<tr>\n",
       "  <th>Omnibus:</th>       <td>48.404</td> <th>  Durbin-Watson:     </th> <td>   1.957</td>\n",
       "</tr>\n",
       "<tr>\n",
       "  <th>Prob(Omnibus):</th> <td> 0.000</td> <th>  Jarque-Bera (JB):  </th> <td> 119.054</td>\n",
       "</tr>\n",
       "<tr>\n",
       "  <th>Skew:</th>          <td> 0.589</td> <th>  Prob(JB):          </th> <td>1.40e-26</td>\n",
       "</tr>\n",
       "<tr>\n",
       "  <th>Kurtosis:</th>      <td> 5.348</td> <th>  Cond. No.          </th> <td>    39.0</td>\n",
       "</tr>\n",
       "</table><br/><br/>Notes:<br/>[1] Standard Errors assume that the covariance matrix of the errors is correctly specified."
      ],
      "text/plain": [
       "<class 'statsmodels.iolib.summary.Summary'>\n",
       "\"\"\"\n",
       "                               OLS Regression Results                               \n",
       "====================================================================================\n",
       "Dep. Variable:     House price of unit area   R-squared:                       0.044\n",
       "Model:                                  OLS   Adj. R-squared:                  0.042\n",
       "Method:                       Least Squares   F-statistic:                     19.11\n",
       "Date:                      Mon, 05 Dec 2022   Prob (F-statistic):           1.56e-05\n",
       "Time:                              22:09:01   Log-Likelihood:                -1658.3\n",
       "No. Observations:                       414   AIC:                             3321.\n",
       "Df Residuals:                           412   BIC:                             3329.\n",
       "Df Model:                                 1                                         \n",
       "Covariance Type:                  nonrobust                                         \n",
       "==============================================================================\n",
       "                 coef    std err          t      P>|t|      [0.025      0.975]\n",
       "------------------------------------------------------------------------------\n",
       "const         42.4347      1.211     35.042      0.000      40.054      44.815\n",
       "House Age     -0.2515      0.058     -4.372      0.000      -0.365      -0.138\n",
       "==============================================================================\n",
       "Omnibus:                       48.404   Durbin-Watson:                   1.957\n",
       "Prob(Omnibus):                  0.000   Jarque-Bera (JB):              119.054\n",
       "Skew:                           0.589   Prob(JB):                     1.40e-26\n",
       "Kurtosis:                       5.348   Cond. No.                         39.0\n",
       "==============================================================================\n",
       "\n",
       "Notes:\n",
       "[1] Standard Errors assume that the covariance matrix of the errors is correctly specified.\n",
       "\"\"\""
      ]
     },
     "execution_count": 90,
     "metadata": {},
     "output_type": "execute_result"
    }
   ],
   "source": [
    "lm.summary()"
   ]
  },
  {
   "cell_type": "code",
   "execution_count": 12,
   "id": "317fdf1e",
   "metadata": {},
   "outputs": [],
   "source": [
    "from sklearn.linear_model import LinearRegression"
   ]
  },
  {
   "cell_type": "code",
   "execution_count": 13,
   "id": "d0fdd430",
   "metadata": {},
   "outputs": [],
   "source": [
    "y = df['House price of unit area']"
   ]
  },
  {
   "cell_type": "code",
   "execution_count": 14,
   "id": "c726450e",
   "metadata": {},
   "outputs": [],
   "source": [
    "x = df[['House Age']]"
   ]
  },
  {
   "cell_type": "code",
   "execution_count": 16,
   "id": "2179ba6b",
   "metadata": {},
   "outputs": [],
   "source": [
    "lm2 = LinearRegression()"
   ]
  },
  {
   "cell_type": "code",
   "execution_count": 17,
   "id": "c6571b1e",
   "metadata": {},
   "outputs": [
    {
     "data": {
      "text/plain": [
       "LinearRegression()"
      ]
     },
     "execution_count": 17,
     "metadata": {},
     "output_type": "execute_result"
    }
   ],
   "source": [
    "lm2.fit(x,y)"
   ]
  },
  {
   "cell_type": "code",
   "execution_count": 18,
   "id": "0719f37f",
   "metadata": {},
   "outputs": [
    {
     "name": "stdout",
     "output_type": "stream",
     "text": [
      "42.4346970462629 [-0.25148842]\n"
     ]
    }
   ],
   "source": [
    "print(lm2.intercept_, lm2.coef_)"
   ]
  },
  {
   "cell_type": "code",
   "execution_count": 19,
   "id": "d291598d",
   "metadata": {},
   "outputs": [
    {
     "data": {
      "text/plain": [
       "array([34.38706764, 37.53067287, 39.08990107, 39.08990107, 41.17725495,\n",
       "       40.64912927, 33.75834659, 37.32948214, 34.46251416, 37.93305434,\n",
       "       33.68290006, 40.85032001, 39.1653476 , 37.3043333 , 39.11504991,\n",
       "       33.45656048, 42.43469705, 37.98335203, 38.18454276, 42.05746442,\n",
       "       41.30299916, 39.79406865, 38.73781729, 39.89466401, 32.47575565,\n",
       "       35.06608637, 41.65508295, 39.81921749, 37.6061194 , 40.64912927,\n",
       "       35.92114699, 34.99063984, 32.90328596, 38.28513813, 38.56177539,\n",
       "       38.93900802, 38.73781729, 39.41683602, 41.65508295, 38.36058466,\n",
       "       39.01445455, 38.20969161, 33.35596512, 33.78349543, 41.75567831,\n",
       "       33.23022091, 36.97739835, 33.4062628 , 36.3486773 , 35.04093753,\n",
       "       36.97739835, 34.56310953, 34.36191879, 39.08990107, 38.3857335 ,\n",
       "       34.46251416, 33.98468616, 41.55448758, 34.81459795, 39.08990107,\n",
       "       39.66832444, 41.10180843, 38.10909624, 41.78082716, 38.03364971,\n",
       "       32.35001144, 42.18320863, 40.29704548, 34.78944911, 39.29109181,\n",
       "       40.77487348, 33.50685817, 34.26132343, 38.96415686, 40.7245758 ,\n",
       "       39.34138949, 33.4062628 , 37.27918446, 32.82783944, 37.9079055 ,\n",
       "       39.4671337 , 34.68885374, 39.11504991, 36.07204004, 38.63722192,\n",
       "       42.43469705, 41.98201789, 38.18454276, 40.19645012, 36.65046341,\n",
       "       42.43469705, 40.14615243, 37.25403561, 34.41221648, 32.14882071,\n",
       "       40.42278969, 40.82517116, 35.29242594, 38.31028697, 40.82517116,\n",
       "       38.03364971, 39.24079412, 42.15805979, 42.43469705, 34.21102574,\n",
       "       42.43469705, 38.10909624, 39.36653833, 34.53796069, 41.42874337,\n",
       "       40.39764085, 34.06013269, 39.9449617 , 38.71266844, 34.73915142,\n",
       "       37.25403561, 34.6637049 , 39.01445455, 36.07204004, 38.25998929,\n",
       "       39.08990107, 39.01445455, 34.51281185, 42.43469705, 39.9449617 ,\n",
       "       42.15805979, 32.72724407, 41.47904105, 32.04822534, 32.75239291,\n",
       "       34.99063984, 41.42874337, 35.7451051 , 37.9079055 , 34.03498385,\n",
       "       37.68156593, 39.56772907, 39.01445455, 39.91981286, 39.19049644,\n",
       "       38.36058466, 41.15210611, 37.45522635, 39.01445455, 39.44198486,\n",
       "       41.90657137, 42.43469705, 41.62993411, 38.31028697, 33.65775122,\n",
       "       33.43141164, 41.20240379, 39.41683602, 40.80002232, 38.18454276,\n",
       "       38.96415686, 34.71400258, 38.3857335 , 39.51743138, 38.53662655,\n",
       "       41.55448758, 37.6061194 , 38.41088234, 40.29704548, 42.43469705,\n",
       "       38.9893057 , 42.43469705, 35.34272363, 35.49361668, 40.32219433,\n",
       "       36.39897499, 41.52933874, 40.77487348, 32.04822534, 41.35329684,\n",
       "       34.83974679, 38.93900802, 34.13557922, 39.14019876, 38.91385918,\n",
       "       35.66965857, 39.51743138, 39.03960339, 38.15939392, 38.88871034,\n",
       "       34.53796069, 37.17858909, 40.19645012, 33.68290006, 38.33543582,\n",
       "       33.55715585, 39.11504991, 31.41950429, 39.99525938, 38.61207308,\n",
       "       38.61207308, 36.70076109, 33.78349543, 33.8840908 , 37.85760782,\n",
       "       38.05879855, 39.14019876, 32.8026906 , 38.51147771, 37.9079055 ,\n",
       "       39.21564528, 36.85165414, 32.75239291, 39.54258023, 33.68290006,\n",
       "       41.12695727, 42.43469705, 38.00850087, 40.87546885, 37.88275666,\n",
       "       37.6061194 , 32.9284348 , 35.39302131, 39.01445455, 35.06608637,\n",
       "       33.07932786, 40.17130127, 34.73915142, 40.14615243, 33.75834659,\n",
       "       42.15805979, 38.28513813, 34.28647227, 39.44198486, 34.63855605,\n",
       "       41.42874337, 38.36058466, 35.61936089, 32.45060681, 40.42278969,\n",
       "       39.19049644, 41.52933874, 39.1653476 , 39.21564528, 37.88275666,\n",
       "       39.66832444, 38.9893057 , 41.93172021, 34.1858769 , 41.22755263,\n",
       "       40.5485339 , 38.31028697, 36.97739835, 37.65641708, 37.9079055 ,\n",
       "       32.57635102, 34.46251416, 40.95091537, 34.78944911, 42.15805979,\n",
       "       34.51281185, 38.76296613, 38.0839474 , 42.43469705, 37.98335203,\n",
       "       38.15939392, 38.36058466, 38.43603118, 41.45389221, 34.23617458,\n",
       "       38.48632887, 37.95820319, 33.7080489 , 38.10909624, 38.00850087,\n",
       "       39.71862212, 37.98335203, 39.1653476 , 39.11504991, 35.51876552,\n",
       "       42.05746442, 37.63126824, 37.10314256, 42.43469705, 41.78082716,\n",
       "       41.85627368, 41.25270148, 41.93172021, 34.00983501, 38.66237076,\n",
       "       34.86489563, 40.95091537, 37.6061194 , 38.25998929, 38.93900802,\n",
       "       32.95358365, 41.57963642, 38.03364971, 39.26594297, 35.79540278,\n",
       "       37.85760782, 39.29109181, 33.65775122, 38.23484045, 34.08528153,\n",
       "       41.805976  , 32.87813712, 38.28513813, 32.8026906 , 37.40492866,\n",
       "       38.36058466, 38.81326381, 39.84436633, 38.31028697, 34.81459795,\n",
       "       38.31028697, 37.07799372, 33.53200701, 40.34734317, 41.5041899 ,\n",
       "       38.51147771, 39.08990107, 38.51147771, 40.64912927, 33.73319775,\n",
       "       39.03960339, 38.18454276, 39.19049644, 35.24212826, 39.31624065,\n",
       "       33.23022091, 41.40359453, 41.55448758, 38.43603118, 39.01445455,\n",
       "       34.38706764, 35.99659352, 32.42545797, 40.47308738, 34.89004447,\n",
       "       35.56906321, 41.15210611, 34.56310953, 34.51281185, 42.00716673,\n",
       "       33.98468616, 39.1653476 , 41.00121306, 34.00983501, 33.73319775,\n",
       "       42.43469705, 39.11504991, 38.05879855, 41.27785032, 40.47308738,\n",
       "       39.11504991, 41.42874337, 37.80731014, 41.40359453, 39.36653833,\n",
       "       41.47904105, 39.84436633, 42.43469705, 42.15805979, 41.0263619 ,\n",
       "       34.16072806, 32.0230765 , 38.13424508, 34.31162111, 33.55715585,\n",
       "       38.0839474 , 38.8635615 , 38.66237076, 37.85760782, 37.35463098,\n",
       "       38.43603118, 41.40359453, 33.90923964, 42.43469705, 41.07665958,\n",
       "       36.97739835, 38.73781729, 41.45389221, 33.05417901, 42.43469705,\n",
       "       38.88871034, 40.42278969, 38.33543582, 35.11638405, 38.3857335 ,\n",
       "       37.83245898, 42.43469705, 38.36058466, 39.81921749, 32.14882071,\n",
       "       34.1858769 , 40.87546885, 31.69614155, 38.18454276, 34.23617458,\n",
       "       37.10314256, 33.1044767 , 39.14019876, 38.73781729, 39.24079412,\n",
       "       35.69480741, 40.52338506, 39.24079412, 34.6637049 , 38.31028697,\n",
       "       36.65046341, 41.95686905, 41.12695727, 37.78216129, 38.9893057 ,\n",
       "       41.0263619 , 37.70671477, 40.39764085, 40.80002232])"
      ]
     },
     "execution_count": 19,
     "metadata": {},
     "output_type": "execute_result"
    }
   ],
   "source": [
    "lm2.predict(x)"
   ]
  },
  {
   "cell_type": "code",
   "execution_count": 20,
   "id": "63bf798b",
   "metadata": {},
   "outputs": [
    {
     "data": {
      "text/plain": [
       "<seaborn.axisgrid.JointGrid at 0x25b19adb4c0>"
      ]
     },
     "execution_count": 20,
     "metadata": {},
     "output_type": "execute_result"
    },
    {
     "data": {
      "image/png": "[encoded data removed]",
      "text/plain": [
       "<Figure size 600x600 with 3 Axes>"
      ]
     },
     "metadata": {},
     "output_type": "display_data"
    }
   ],
   "source": [
    "sns.jointplot(x = df['House Age'], y = df['House price of unit area'], data=df, kind='reg')"
   ]
  },
  {
   "cell_type": "code",
   "execution_count": 21,
   "id": "6f3360ca",
   "metadata": {},
   "outputs": [],
   "source": [
    "x_multi = df.drop(\"House price of unit area\", axis=1)"
   ]
  },
  {
   "cell_type": "code",
   "execution_count": 22,
   "id": "f29e9d3a",
   "metadata": {},
   "outputs": [
    {
     "data": {
      "text/html": [
       "<div>\n",
       "<style scoped>\n",
       "    .dataframe tbody tr th:only-of-type {\n",
       "        vertical-align: middle;\n",
       "    }\n",
       "\n",
       "    .dataframe tbody tr th {\n",
       "        vertical-align: top;\n",
       "    }\n",
       "\n",
       "    .dataframe thead th {\n",
       "        text-align: right;\n",
       "    }\n",
       "</style>\n",
       "<table border=\"1\" class=\"dataframe\">\n",
       "  <thead>\n",
       "    <tr style=\"text-align: right;\">\n",
       "      <th></th>\n",
       "      <th>Transaction date</th>\n",
       "      <th>House Age</th>\n",
       "      <th>Distance from nearest Metro station (km)</th>\n",
       "      <th>Number of convenience stores</th>\n",
       "      <th>latitude</th>\n",
       "      <th>longitude</th>\n",
       "      <th>Number of bedrooms</th>\n",
       "      <th>House size (sqft)</th>\n",
       "    </tr>\n",
       "  </thead>\n",
       "  <tbody>\n",
       "    <tr>\n",
       "      <th>0</th>\n",
       "      <td>2012.917</td>\n",
       "      <td>32.0</td>\n",
       "      <td>84.87882</td>\n",
       "      <td>10</td>\n",
       "      <td>24.98298</td>\n",
       "      <td>121.54024</td>\n",
       "      <td>1</td>\n",
       "      <td>575</td>\n",
       "    </tr>\n",
       "    <tr>\n",
       "      <th>1</th>\n",
       "      <td>2012.917</td>\n",
       "      <td>19.5</td>\n",
       "      <td>306.59470</td>\n",
       "      <td>9</td>\n",
       "      <td>24.98034</td>\n",
       "      <td>121.53951</td>\n",
       "      <td>2</td>\n",
       "      <td>1240</td>\n",
       "    </tr>\n",
       "    <tr>\n",
       "      <th>2</th>\n",
       "      <td>2013.583</td>\n",
       "      <td>13.3</td>\n",
       "      <td>561.98450</td>\n",
       "      <td>5</td>\n",
       "      <td>24.98746</td>\n",
       "      <td>121.54391</td>\n",
       "      <td>3</td>\n",
       "      <td>1060</td>\n",
       "    </tr>\n",
       "    <tr>\n",
       "      <th>3</th>\n",
       "      <td>2013.500</td>\n",
       "      <td>13.3</td>\n",
       "      <td>561.98450</td>\n",
       "      <td>5</td>\n",
       "      <td>24.98746</td>\n",
       "      <td>121.54391</td>\n",
       "      <td>2</td>\n",
       "      <td>875</td>\n",
       "    </tr>\n",
       "    <tr>\n",
       "      <th>4</th>\n",
       "      <td>2012.833</td>\n",
       "      <td>5.0</td>\n",
       "      <td>390.56840</td>\n",
       "      <td>5</td>\n",
       "      <td>24.97937</td>\n",
       "      <td>121.54245</td>\n",
       "      <td>1</td>\n",
       "      <td>491</td>\n",
       "    </tr>\n",
       "  </tbody>\n",
       "</table>\n",
       "</div>"
      ],
      "text/plain": [
       "   Transaction date  House Age  Distance from nearest Metro station (km)  \\\n",
       "0          2012.917       32.0                                  84.87882   \n",
       "1          2012.917       19.5                                 306.59470   \n",
       "2          2013.583       13.3                                 561.98450   \n",
       "3          2013.500       13.3                                 561.98450   \n",
       "4          2012.833        5.0                                 390.56840   \n",
       "\n",
       "   Number of convenience stores  latitude  longitude  Number of bedrooms  \\\n",
       "0                            10  24.98298  121.54024                   1   \n",
       "1                             9  24.98034  121.53951                   2   \n",
       "2                             5  24.98746  121.54391                   3   \n",
       "3                             5  24.98746  121.54391                   2   \n",
       "4                             5  24.97937  121.54245                   1   \n",
       "\n",
       "   House size (sqft)  \n",
       "0                575  \n",
       "1               1240  \n",
       "2               1060  \n",
       "3                875  \n",
       "4                491  "
      ]
     },
     "execution_count": 22,
     "metadata": {},
     "output_type": "execute_result"
    }
   ],
   "source": [
    "x_multi.head()"
   ]
  },
  {
   "cell_type": "code",
   "execution_count": 23,
   "id": "4b70b7e0",
   "metadata": {},
   "outputs": [],
   "source": [
    "y_multi = df[\"House price of unit area\"]"
   ]
  },
  {
   "cell_type": "code",
   "execution_count": 24,
   "id": "b5055580",
   "metadata": {},
   "outputs": [
    {
     "data": {
      "text/plain": [
       "0    37.9\n",
       "1    42.2\n",
       "2    47.3\n",
       "3    54.8\n",
       "4    43.1\n",
       "Name: House price of unit area, dtype: float64"
      ]
     },
     "execution_count": 24,
     "metadata": {},
     "output_type": "execute_result"
    }
   ],
   "source": [
    "y_multi.head()"
   ]
  },
  {
   "cell_type": "code",
   "execution_count": 25,
   "id": "695f2094",
   "metadata": {},
   "outputs": [],
   "source": [
    "x_multi_cons = sn.add_constant(x_multi)"
   ]
  },
  {
   "cell_type": "code",
   "execution_count": 26,
   "id": "8cdee571",
   "metadata": {},
   "outputs": [
    {
     "data": {
      "text/html": [
       "<div>\n",
       "<style scoped>\n",
       "    .dataframe tbody tr th:only-of-type {\n",
       "        vertical-align: middle;\n",
       "    }\n",
       "\n",
       "    .dataframe tbody tr th {\n",
       "        vertical-align: top;\n",
       "    }\n",
       "\n",
       "    .dataframe thead th {\n",
       "        text-align: right;\n",
       "    }\n",
       "</style>\n",
       "<table border=\"1\" class=\"dataframe\">\n",
       "  <thead>\n",
       "    <tr style=\"text-align: right;\">\n",
       "      <th></th>\n",
       "      <th>const</th>\n",
       "      <th>Transaction date</th>\n",
       "      <th>House Age</th>\n",
       "      <th>Distance from nearest Metro station (km)</th>\n",
       "      <th>Number of convenience stores</th>\n",
       "      <th>latitude</th>\n",
       "      <th>longitude</th>\n",
       "      <th>Number of bedrooms</th>\n",
       "      <th>House size (sqft)</th>\n",
       "    </tr>\n",
       "  </thead>\n",
       "  <tbody>\n",
       "    <tr>\n",
       "      <th>0</th>\n",
       "      <td>1.0</td>\n",
       "      <td>2012.917</td>\n",
       "      <td>32.0</td>\n",
       "      <td>84.87882</td>\n",
       "      <td>10</td>\n",
       "      <td>24.98298</td>\n",
       "      <td>121.54024</td>\n",
       "      <td>1</td>\n",
       "      <td>575</td>\n",
       "    </tr>\n",
       "    <tr>\n",
       "      <th>1</th>\n",
       "      <td>1.0</td>\n",
       "      <td>2012.917</td>\n",
       "      <td>19.5</td>\n",
       "      <td>306.59470</td>\n",
       "      <td>9</td>\n",
       "      <td>24.98034</td>\n",
       "      <td>121.53951</td>\n",
       "      <td>2</td>\n",
       "      <td>1240</td>\n",
       "    </tr>\n",
       "    <tr>\n",
       "      <th>2</th>\n",
       "      <td>1.0</td>\n",
       "      <td>2013.583</td>\n",
       "      <td>13.3</td>\n",
       "      <td>561.98450</td>\n",
       "      <td>5</td>\n",
       "      <td>24.98746</td>\n",
       "      <td>121.54391</td>\n",
       "      <td>3</td>\n",
       "      <td>1060</td>\n",
       "    </tr>\n",
       "    <tr>\n",
       "      <th>3</th>\n",
       "      <td>1.0</td>\n",
       "      <td>2013.500</td>\n",
       "      <td>13.3</td>\n",
       "      <td>561.98450</td>\n",
       "      <td>5</td>\n",
       "      <td>24.98746</td>\n",
       "      <td>121.54391</td>\n",
       "      <td>2</td>\n",
       "      <td>875</td>\n",
       "    </tr>\n",
       "    <tr>\n",
       "      <th>4</th>\n",
       "      <td>1.0</td>\n",
       "      <td>2012.833</td>\n",
       "      <td>5.0</td>\n",
       "      <td>390.56840</td>\n",
       "      <td>5</td>\n",
       "      <td>24.97937</td>\n",
       "      <td>121.54245</td>\n",
       "      <td>1</td>\n",
       "      <td>491</td>\n",
       "    </tr>\n",
       "  </tbody>\n",
       "</table>\n",
       "</div>"
      ],
      "text/plain": [
       "   const  Transaction date  House Age  \\\n",
       "0    1.0          2012.917       32.0   \n",
       "1    1.0          2012.917       19.5   \n",
       "2    1.0          2013.583       13.3   \n",
       "3    1.0          2013.500       13.3   \n",
       "4    1.0          2012.833        5.0   \n",
       "\n",
       "   Distance from nearest Metro station (km)  Number of convenience stores  \\\n",
       "0                                  84.87882                            10   \n",
       "1                                 306.59470                             9   \n",
       "2                                 561.98450                             5   \n",
       "3                                 561.98450                             5   \n",
       "4                                 390.56840                             5   \n",
       "\n",
       "   latitude  longitude  Number of bedrooms  House size (sqft)  \n",
       "0  24.98298  121.54024                   1                575  \n",
       "1  24.98034  121.53951                   2               1240  \n",
       "2  24.98746  121.54391                   3               1060  \n",
       "3  24.98746  121.54391                   2                875  \n",
       "4  24.97937  121.54245                   1                491  "
      ]
     },
     "execution_count": 26,
     "metadata": {},
     "output_type": "execute_result"
    }
   ],
   "source": [
    "x_multi_cons.head()"
   ]
  },
  {
   "cell_type": "code",
   "execution_count": 28,
   "id": "2b47308b",
   "metadata": {},
   "outputs": [],
   "source": [
    "lm_multi = sn.OLS(y_multi, x_multi_cons).fit()"
   ]
  },
  {
   "cell_type": "code",
   "execution_count": 91,
   "id": "2fc0d03c",
   "metadata": {},
   "outputs": [
    {
     "data": {
      "text/html": [
       "<table class=\"simpletable\">\n",
       "<caption>OLS Regression Results</caption>\n",
       "<tr>\n",
       "  <th>Dep. Variable:</th>    <td>House price of unit area</td> <th>  R-squared:         </th> <td>   0.583</td>\n",
       "</tr>\n",
       "<tr>\n",
       "  <th>Model:</th>                       <td>OLS</td>           <th>  Adj. R-squared:    </th> <td>   0.574</td>\n",
       "</tr>\n",
       "<tr>\n",
       "  <th>Method:</th>                 <td>Least Squares</td>      <th>  F-statistic:       </th> <td>   70.66</td>\n",
       "</tr>\n",
       "<tr>\n",
       "  <th>Date:</th>                 <td>Mon, 05 Dec 2022</td>     <th>  Prob (F-statistic):</th> <td>4.15e-72</td>\n",
       "</tr>\n",
       "<tr>\n",
       "  <th>Time:</th>                     <td>22:11:30</td>         <th>  Log-Likelihood:    </th> <td> -1486.9</td>\n",
       "</tr>\n",
       "<tr>\n",
       "  <th>No. Observations:</th>          <td>   414</td>          <th>  AIC:               </th> <td>   2992.</td>\n",
       "</tr>\n",
       "<tr>\n",
       "  <th>Df Residuals:</th>              <td>   405</td>          <th>  BIC:               </th> <td>   3028.</td>\n",
       "</tr>\n",
       "<tr>\n",
       "  <th>Df Model:</th>                  <td>     8</td>          <th>                     </th>     <td> </td>   \n",
       "</tr>\n",
       "<tr>\n",
       "  <th>Covariance Type:</th>          <td>nonrobust</td>        <th>                     </th>     <td> </td>   \n",
       "</tr>\n",
       "</table>\n",
       "<table class=\"simpletable\">\n",
       "<tr>\n",
       "                      <td></td>                        <th>coef</th>     <th>std err</th>      <th>t</th>      <th>P>|t|</th>  <th>[0.025</th>    <th>0.975]</th>  \n",
       "</tr>\n",
       "<tr>\n",
       "  <th>const</th>                                    <td>-1.429e+04</td> <td> 6800.867</td> <td>   -2.101</td> <td> 0.036</td> <td>-2.77e+04</td> <td> -922.182</td>\n",
       "</tr>\n",
       "<tr>\n",
       "  <th>Transaction date</th>                         <td>    5.1196</td> <td>    1.564</td> <td>    3.273</td> <td> 0.001</td> <td>    2.045</td> <td>    8.194</td>\n",
       "</tr>\n",
       "<tr>\n",
       "  <th>House Age</th>                                <td>   -0.2681</td> <td>    0.039</td> <td>   -6.914</td> <td> 0.000</td> <td>   -0.344</td> <td>   -0.192</td>\n",
       "</tr>\n",
       "<tr>\n",
       "  <th>Distance from nearest Metro station (km)</th> <td>   -0.0045</td> <td>    0.001</td> <td>   -6.251</td> <td> 0.000</td> <td>   -0.006</td> <td>   -0.003</td>\n",
       "</tr>\n",
       "<tr>\n",
       "  <th>Number of convenience stores</th>             <td>    1.1292</td> <td>    0.189</td> <td>    5.981</td> <td> 0.000</td> <td>    0.758</td> <td>    1.500</td>\n",
       "</tr>\n",
       "<tr>\n",
       "  <th>latitude</th>                                 <td>  224.5916</td> <td>   44.706</td> <td>    5.024</td> <td> 0.000</td> <td>  136.706</td> <td>  312.477</td>\n",
       "</tr>\n",
       "<tr>\n",
       "  <th>longitude</th>                                <td>  -13.0012</td> <td>   48.705</td> <td>   -0.267</td> <td> 0.790</td> <td> -108.748</td> <td>   82.746</td>\n",
       "</tr>\n",
       "<tr>\n",
       "  <th>Number of bedrooms</th>                       <td>   -0.2266</td> <td>    0.814</td> <td>   -0.278</td> <td> 0.781</td> <td>   -1.826</td> <td>    1.373</td>\n",
       "</tr>\n",
       "<tr>\n",
       "  <th>House size (sqft)</th>                        <td>    0.0009</td> <td>    0.002</td> <td>    0.452</td> <td> 0.652</td> <td>   -0.003</td> <td>    0.005</td>\n",
       "</tr>\n",
       "</table>\n",
       "<table class=\"simpletable\">\n",
       "<tr>\n",
       "  <th>Omnibus:</th>       <td>229.206</td> <th>  Durbin-Watson:     </th> <td>   2.151</td>\n",
       "</tr>\n",
       "<tr>\n",
       "  <th>Prob(Omnibus):</th> <td> 0.000</td>  <th>  Jarque-Bera (JB):  </th> <td>3494.494</td>\n",
       "</tr>\n",
       "<tr>\n",
       "  <th>Skew:</th>          <td> 2.003</td>  <th>  Prob(JB):          </th> <td>    0.00</td>\n",
       "</tr>\n",
       "<tr>\n",
       "  <th>Kurtosis:</th>      <td>16.658</td>  <th>  Cond. No.          </th> <td>3.98e+07</td>\n",
       "</tr>\n",
       "</table><br/><br/>Notes:<br/>[1] Standard Errors assume that the covariance matrix of the errors is correctly specified.<br/>[2] The condition number is large, 3.98e+07. This might indicate that there are<br/>strong multicollinearity or other numerical problems."
      ],
      "text/plain": [
       "<class 'statsmodels.iolib.summary.Summary'>\n",
       "\"\"\"\n",
       "                               OLS Regression Results                               \n",
       "====================================================================================\n",
       "Dep. Variable:     House price of unit area   R-squared:                       0.583\n",
       "Model:                                  OLS   Adj. R-squared:                  0.574\n",
       "Method:                       Least Squares   F-statistic:                     70.66\n",
       "Date:                      Mon, 05 Dec 2022   Prob (F-statistic):           4.15e-72\n",
       "Time:                              22:11:30   Log-Likelihood:                -1486.9\n",
       "No. Observations:                       414   AIC:                             2992.\n",
       "Df Residuals:                           405   BIC:                             3028.\n",
       "Df Model:                                 8                                         \n",
       "Covariance Type:                  nonrobust                                         \n",
       "============================================================================================================\n",
       "                                               coef    std err          t      P>|t|      [0.025      0.975]\n",
       "------------------------------------------------------------------------------------------------------------\n",
       "const                                    -1.429e+04   6800.867     -2.101      0.036   -2.77e+04    -922.182\n",
       "Transaction date                             5.1196      1.564      3.273      0.001       2.045       8.194\n",
       "House Age                                   -0.2681      0.039     -6.914      0.000      -0.344      -0.192\n",
       "Distance from nearest Metro station (km)    -0.0045      0.001     -6.251      0.000      -0.006      -0.003\n",
       "Number of convenience stores                 1.1292      0.189      5.981      0.000       0.758       1.500\n",
       "latitude                                   224.5916     44.706      5.024      0.000     136.706     312.477\n",
       "longitude                                  -13.0012     48.705     -0.267      0.790    -108.748      82.746\n",
       "Number of bedrooms                          -0.2266      0.814     -0.278      0.781      -1.826       1.373\n",
       "House size (sqft)                            0.0009      0.002      0.452      0.652      -0.003       0.005\n",
       "==============================================================================\n",
       "Omnibus:                      229.206   Durbin-Watson:                   2.151\n",
       "Prob(Omnibus):                  0.000   Jarque-Bera (JB):             3494.494\n",
       "Skew:                           2.003   Prob(JB):                         0.00\n",
       "Kurtosis:                      16.658   Cond. No.                     3.98e+07\n",
       "==============================================================================\n",
       "\n",
       "Notes:\n",
       "[1] Standard Errors assume that the covariance matrix of the errors is correctly specified.\n",
       "[2] The condition number is large, 3.98e+07. This might indicate that there are\n",
       "strong multicollinearity or other numerical problems.\n",
       "\"\"\""
      ]
     },
     "execution_count": 91,
     "metadata": {},
     "output_type": "execute_result"
    }
   ],
   "source": [
    "lm_multi.summary()"
   ]
  },
  {
   "cell_type": "markdown",
   "id": "61f76da5",
   "metadata": {},
   "source": [
    "**From the R-squared value, it can be understood that it is a good fit model as it is greater than 0.5.\n",
    "The lowest P value is in House Age, Distance from nearest Metro staion, Number of convenience stores, Latitude, Transaction Date and so they are more significantly determining y.\n",
    "As the coef of house age is negative, it determines that if we increase the House Age, Price is going to decrease.\n",
    "It is similar in case of Distance from nearest Metro station, longitude, number of bedrooms.\n",
    "But as the coef of Number of convenience stores , House size is positive, House price is going to increase."
   ]
  },
  {
   "cell_type": "code",
   "execution_count": 100,
   "id": "d64199be",
   "metadata": {},
   "outputs": [],
   "source": [
    "lm3 = LinearRegression()"
   ]
  },
  {
   "cell_type": "code",
   "execution_count": 101,
   "id": "b8826081",
   "metadata": {},
   "outputs": [
    {
     "data": {
      "text/plain": [
       "LinearRegression()"
      ]
     },
     "execution_count": 101,
     "metadata": {},
     "output_type": "execute_result"
    }
   ],
   "source": [
    "lm3.fit(x_multi, y_multi)"
   ]
  },
  {
   "cell_type": "code",
   "execution_count": 32,
   "id": "dd7c56d9",
   "metadata": {},
   "outputs": [
    {
     "name": "stdout",
     "output_type": "stream",
     "text": [
      "-14291.590236728725 [ 5.11957813e+00 -2.68091240e-01 -4.51136155e-03  1.12916016e+00\n",
      "  2.24591611e+02 -1.30011887e+01 -2.26573203e-01  8.65563369e-04]\n"
     ]
    }
   ],
   "source": [
    "print(lm3.intercept_,lm3.coef_)"
   ]
  },
  {
   "cell_type": "code",
   "execution_count": 33,
   "id": "f925302a",
   "metadata": {},
   "outputs": [],
   "source": [
    "from sklearn.model_selection import train_test_split"
   ]
  },
  {
   "cell_type": "code",
   "execution_count": 34,
   "id": "f91826d8",
   "metadata": {},
   "outputs": [],
   "source": [
    "x_train, x_test, y_train, y_test = train_test_split(x_multi, y_multi, test_size = 0.2, random_state=0)"
   ]
  },
  {
   "cell_type": "code",
   "execution_count": 92,
   "id": "7ce1928d",
   "metadata": {},
   "outputs": [
    {
     "name": "stdout",
     "output_type": "stream",
     "text": [
      "(331, 8) (83, 8) (331,) (83,)\n"
     ]
    }
   ],
   "source": [
    "print(x_train.shape, x_test.shape, y_train.shape, y_test.shape)"
   ]
  },
  {
   "cell_type": "markdown",
   "id": "43fea199",
   "metadata": {},
   "source": [
    "**331 observations are in training sets and rest 83 observations are in test set.**"
   ]
  },
  {
   "cell_type": "code",
   "execution_count": 104,
   "id": "6df8a18e",
   "metadata": {},
   "outputs": [],
   "source": [
    "lm_a = LinearRegression()"
   ]
  },
  {
   "cell_type": "code",
   "execution_count": 105,
   "id": "65b0f0b9",
   "metadata": {},
   "outputs": [
    {
     "data": {
      "text/plain": [
       "LinearRegression()"
      ]
     },
     "execution_count": 105,
     "metadata": {},
     "output_type": "execute_result"
    }
   ],
   "source": [
    "lm_a.fit(x_train, y_train)"
   ]
  },
  {
   "cell_type": "code",
   "execution_count": 38,
   "id": "d2b8ff88",
   "metadata": {},
   "outputs": [],
   "source": [
    "y_test_a = lm_a.predict(x_test)"
   ]
  },
  {
   "cell_type": "code",
   "execution_count": 39,
   "id": "6bfca73d",
   "metadata": {},
   "outputs": [],
   "source": [
    "y_train_a = lm_a.predict(x_train)"
   ]
  },
  {
   "cell_type": "code",
   "execution_count": 40,
   "id": "2365dafb",
   "metadata": {},
   "outputs": [],
   "source": [
    "from sklearn.metrics import r2_score"
   ]
  },
  {
   "cell_type": "code",
   "execution_count": 41,
   "id": "5072fb5a",
   "metadata": {},
   "outputs": [
    {
     "data": {
      "text/plain": [
       "0.6559590333192891"
      ]
     },
     "execution_count": 41,
     "metadata": {},
     "output_type": "execute_result"
    }
   ],
   "source": [
    "r2_score(y_test, y_test_a)"
   ]
  },
  {
   "cell_type": "code",
   "execution_count": 152,
   "id": "9517a068",
   "metadata": {},
   "outputs": [
    {
     "data": {
      "text/plain": [
       "0.5648484189579224"
      ]
     },
     "execution_count": 152,
     "metadata": {},
     "output_type": "execute_result"
    }
   ],
   "source": [
    "r2_score(y_train, y_train_a)"
   ]
  },
  {
   "cell_type": "markdown",
   "id": "0640703e",
   "metadata": {},
   "source": [
    "**R- Squared value for test data is more than R_Squared value for training data.**"
   ]
  },
  {
   "cell_type": "code",
   "execution_count": 43,
   "id": "ee285583",
   "metadata": {},
   "outputs": [],
   "source": [
    "from sklearn import preprocessing"
   ]
  },
  {
   "cell_type": "code",
   "execution_count": 44,
   "id": "0f7fa4d4",
   "metadata": {},
   "outputs": [],
   "source": [
    "scaler = preprocessing.StandardScaler().fit(x_train)"
   ]
  },
  {
   "cell_type": "code",
   "execution_count": 45,
   "id": "d5e25dd5",
   "metadata": {},
   "outputs": [],
   "source": [
    "x_train_s = scaler.transform(x_train)"
   ]
  },
  {
   "cell_type": "code",
   "execution_count": 46,
   "id": "ddc79ac0",
   "metadata": {},
   "outputs": [],
   "source": [
    "x_test_s = scaler.transform(x_test)"
   ]
  },
  {
   "cell_type": "code",
   "execution_count": 112,
   "id": "35511f2b",
   "metadata": {},
   "outputs": [],
   "source": [
    "from sklearn.linear_model import Ridge "
   ]
  },
  {
   "cell_type": "code",
   "execution_count": 48,
   "id": "8fb45937",
   "metadata": {},
   "outputs": [
    {
     "data": {
      "text/plain": [
       "Ridge(alpha=0.5)"
      ]
     },
     "execution_count": 48,
     "metadata": {},
     "output_type": "execute_result"
    }
   ],
   "source": [
    "lm_r = Ridge(alpha = 0.5)\n",
    "lm_r.fit(x_train_s, y_train)"
   ]
  },
  {
   "cell_type": "code",
   "execution_count": 49,
   "id": "d8df8deb",
   "metadata": {},
   "outputs": [
    {
     "data": {
      "text/plain": [
       "0.6559042095051015"
      ]
     },
     "execution_count": 49,
     "metadata": {},
     "output_type": "execute_result"
    }
   ],
   "source": [
    "r2_score(y_test, lm_r.predict(x_test_s))"
   ]
  },
  {
   "cell_type": "code",
   "execution_count": 50,
   "id": "8d4dd8cf",
   "metadata": {},
   "outputs": [],
   "source": [
    "from sklearn.model_selection import validation_curve"
   ]
  },
  {
   "cell_type": "code",
   "execution_count": 51,
   "id": "267412d5",
   "metadata": {},
   "outputs": [],
   "source": [
    "validation_curve?"
   ]
  },
  {
   "cell_type": "code",
   "execution_count": 52,
   "id": "655af579",
   "metadata": {},
   "outputs": [],
   "source": [
    "param_range = np.logspace(-2,8,100)"
   ]
  },
  {
   "cell_type": "code",
   "execution_count": 53,
   "id": "edc03a30",
   "metadata": {},
   "outputs": [
    {
     "data": {
      "text/plain": [
       "array([1.00000000e-02, 1.26185688e-02, 1.59228279e-02, 2.00923300e-02,\n",
       "       2.53536449e-02, 3.19926714e-02, 4.03701726e-02, 5.09413801e-02,\n",
       "       6.42807312e-02, 8.11130831e-02, 1.02353102e-01, 1.29154967e-01,\n",
       "       1.62975083e-01, 2.05651231e-01, 2.59502421e-01, 3.27454916e-01,\n",
       "       4.13201240e-01, 5.21400829e-01, 6.57933225e-01, 8.30217568e-01,\n",
       "       1.04761575e+00, 1.32194115e+00, 1.66810054e+00, 2.10490414e+00,\n",
       "       2.65608778e+00, 3.35160265e+00, 4.22924287e+00, 5.33669923e+00,\n",
       "       6.73415066e+00, 8.49753436e+00, 1.07226722e+01, 1.35304777e+01,\n",
       "       1.70735265e+01, 2.15443469e+01, 2.71858824e+01, 3.43046929e+01,\n",
       "       4.32876128e+01, 5.46227722e+01, 6.89261210e+01, 8.69749003e+01,\n",
       "       1.09749877e+02, 1.38488637e+02, 1.74752840e+02, 2.20513074e+02,\n",
       "       2.78255940e+02, 3.51119173e+02, 4.43062146e+02, 5.59081018e+02,\n",
       "       7.05480231e+02, 8.90215085e+02, 1.12332403e+03, 1.41747416e+03,\n",
       "       1.78864953e+03, 2.25701972e+03, 2.84803587e+03, 3.59381366e+03,\n",
       "       4.53487851e+03, 5.72236766e+03, 7.22080902e+03, 9.11162756e+03,\n",
       "       1.14975700e+04, 1.45082878e+04, 1.83073828e+04, 2.31012970e+04,\n",
       "       2.91505306e+04, 3.67837977e+04, 4.64158883e+04, 5.85702082e+04,\n",
       "       7.39072203e+04, 9.32603347e+04, 1.17681195e+05, 1.48496826e+05,\n",
       "       1.87381742e+05, 2.36448941e+05, 2.98364724e+05, 3.76493581e+05,\n",
       "       4.75081016e+05, 5.99484250e+05, 7.56463328e+05, 9.54548457e+05,\n",
       "       1.20450354e+06, 1.51991108e+06, 1.91791026e+06, 2.42012826e+06,\n",
       "       3.05385551e+06, 3.85352859e+06, 4.86260158e+06, 6.13590727e+06,\n",
       "       7.74263683e+06, 9.77009957e+06, 1.23284674e+07, 1.55567614e+07,\n",
       "       1.96304065e+07, 2.47707636e+07, 3.12571585e+07, 3.94420606e+07,\n",
       "       4.97702356e+07, 6.28029144e+07, 7.92482898e+07, 1.00000000e+08])"
      ]
     },
     "execution_count": 53,
     "metadata": {},
     "output_type": "execute_result"
    }
   ],
   "source": [
    "param_range"
   ]
  },
  {
   "cell_type": "code",
   "execution_count": 54,
   "id": "c319c3a1",
   "metadata": {},
   "outputs": [],
   "source": [
    "train_scores, test_scores = validation_curve(Ridge(), x_train_s, y_train, param_name=\"alpha\", param_range=param_range, scoring='r2')"
   ]
  },
  {
   "cell_type": "code",
   "execution_count": 94,
   "id": "4e40c0f9",
   "metadata": {},
   "outputs": [
    {
     "name": "stdout",
     "output_type": "stream",
     "text": [
      "[[5.80583469e-01 5.37396902e-01 5.31853656e-01 6.26030823e-01\n",
      "  5.68500232e-01]\n",
      " [5.80583469e-01 5.37396901e-01 5.31853655e-01 6.26030823e-01\n",
      "  5.68500232e-01]\n",
      " [5.80583468e-01 5.37396900e-01 5.31853654e-01 6.26030823e-01\n",
      "  5.68500231e-01]\n",
      " [5.80583467e-01 5.37396898e-01 5.31853653e-01 6.26030822e-01\n",
      "  5.68500230e-01]\n",
      " [5.80583465e-01 5.37396895e-01 5.31853650e-01 6.26030820e-01\n",
      "  5.68500227e-01]\n",
      " [5.80583462e-01 5.37396891e-01 5.31853647e-01 6.26030818e-01\n",
      "  5.68500224e-01]\n",
      " [5.80583457e-01 5.37396884e-01 5.31853641e-01 6.26030814e-01\n",
      "  5.68500218e-01]\n",
      " [5.80583450e-01 5.37396873e-01 5.31853631e-01 6.26030809e-01\n",
      "  5.68500210e-01]\n",
      " [5.80583438e-01 5.37396855e-01 5.31853616e-01 6.26030799e-01\n",
      "  5.68500195e-01]\n",
      " [5.80583418e-01 5.37396827e-01 5.31853592e-01 6.26030785e-01\n",
      "  5.68500173e-01]\n",
      " [5.80583388e-01 5.37396782e-01 5.31853555e-01 6.26030762e-01\n",
      "  5.68500138e-01]\n",
      " [5.80583340e-01 5.37396710e-01 5.31853495e-01 6.26030725e-01\n",
      "  5.68500081e-01]\n",
      " [5.80583263e-01 5.37396596e-01 5.31853399e-01 6.26030667e-01\n",
      "  5.68499992e-01]\n",
      " [5.80583141e-01 5.37396416e-01 5.31853247e-01 6.26030574e-01\n",
      "  5.68499849e-01]\n",
      " [5.80582948e-01 5.37396129e-01 5.31853006e-01 6.26030426e-01\n",
      "  5.68499623e-01]\n",
      " [5.80582640e-01 5.37395674e-01 5.31852624e-01 6.26030192e-01\n",
      "  5.68499264e-01]\n",
      " [5.80582153e-01 5.37394953e-01 5.31852019e-01 6.26029820e-01\n",
      "  5.68498695e-01]\n",
      " [5.80581381e-01 5.37393811e-01 5.31851062e-01 6.26029231e-01\n",
      "  5.68497794e-01]\n",
      " [5.80580159e-01 5.37392007e-01 5.31849549e-01 6.26028299e-01\n",
      "  5.68496370e-01]\n",
      " [5.80578229e-01 5.37389160e-01 5.31847165e-01 6.26026825e-01\n",
      "  5.68494122e-01]\n",
      " [5.80575187e-01 5.37384680e-01 5.31843415e-01 6.26024499e-01\n",
      "  5.68490582e-01]\n",
      " [5.80570403e-01 5.37377649e-01 5.31837538e-01 6.26020838e-01\n",
      "  5.68485024e-01]\n",
      " [5.80562906e-01 5.37366654e-01 5.31828362e-01 6.26015091e-01\n",
      "  5.68476328e-01]\n",
      " [5.80551198e-01 5.37349539e-01 5.31814101e-01 6.26006099e-01\n",
      "  5.68462777e-01]\n",
      " [5.80533004e-01 5.37323040e-01 5.31792070e-01 6.25992091e-01\n",
      "  5.68441775e-01]\n",
      " [5.80504892e-01 5.37282284e-01 5.31758272e-01 6.25970374e-01\n",
      "  5.68409429e-01]\n",
      " [5.80461752e-01 5.37220105e-01 5.31706860e-01 6.25936907e-01\n",
      "  5.68359989e-01]\n",
      " [5.80396093e-01 5.37126141e-01 5.31629427e-01 6.25885689e-01\n",
      "  5.68285106e-01]\n",
      " [5.80297120e-01 5.36985728e-01 5.31514147e-01 6.25807927e-01\n",
      "  5.68172879e-01]\n",
      " [5.80149567e-01 5.36778595e-01 5.31344765e-01 6.25690910e-01\n",
      "  5.68006712e-01]\n",
      " [5.79932295e-01 5.36477439e-01 5.31099477e-01 6.25516524e-01\n",
      "  5.67763990e-01]\n",
      " [5.79616646e-01 5.36046439e-01 5.30749727e-01 6.25259269e-01\n",
      "  5.67414603e-01]\n",
      " [5.79164493e-01 5.35439723e-01 5.30258843e-01 6.24883628e-01\n",
      "  5.66919295e-01]\n",
      " [5.78525866e-01 5.34599566e-01 5.29580268e-01 6.24340473e-01\n",
      "  5.66227666e-01]\n",
      " [5.77635752e-01 5.33453752e-01 5.28654889e-01 6.23562100e-01\n",
      "  5.65275449e-01]\n",
      " [5.76409508e-01 5.31911161e-01 5.27406730e-01 6.22455383e-01\n",
      "  5.63980445e-01]\n",
      " [5.74736151e-01 5.29854483e-01 5.25736310e-01 6.20892601e-01\n",
      "  5.62236503e-01]\n",
      " [5.72469003e-01 5.27129413e-01 5.23511325e-01 6.18699856e-01\n",
      "  5.59905176e-01]\n",
      " [5.69413833e-01 5.23530907e-01 5.20555116e-01 6.15643706e-01\n",
      "  5.56805448e-01]\n",
      " [5.65315711e-01 5.18788968e-01 5.16634436e-01 6.11417659e-01\n",
      "  5.52702775e-01]\n",
      " [5.59847210e-01 5.12558484e-01 5.11449111e-01 6.05631477e-01\n",
      "  5.47299556e-01]\n",
      " [5.52601989e-01 5.04419110e-01 5.04627215e-01 5.97807598e-01\n",
      "  5.40229817e-01]\n",
      " [5.43099177e-01 4.93891572e-01 4.95730356e-01 5.87390494e-01\n",
      "  5.31061717e-01]\n",
      " [5.30804964e-01 4.80475493e-01 4.84274488e-01 5.73775890e-01\n",
      "  5.19312705e-01]\n",
      " [5.15177698e-01 4.63710610e-01 4.69771628e-01 5.56366454e-01\n",
      "  5.04483314e-01]\n",
      " [4.95739926e-01 4.43257765e-01 4.51795459e-01 5.34656827e-01\n",
      "  4.86115022e-01]\n",
      " [4.72173589e-01 4.18988371e-01 4.30067357e-01 5.08341850e-01\n",
      "  4.63872684e-01]\n",
      " [4.44422983e-01 3.91062697e-01 4.04548954e-01 4.77428305e-01\n",
      "  4.37641587e-01]\n",
      " [4.12778198e-01 3.59972290e-01 3.75516507e-01 4.42317969e-01\n",
      "  4.07615911e-01]\n",
      " [3.77907169e-01 3.26525244e-01 3.43588270e-01 4.03827386e-01\n",
      "  3.74347034e-01]\n",
      " [3.40814043e-01 2.91767508e-01 3.09684941e-01 3.63123943e-01\n",
      "  3.38724895e-01]\n",
      " [3.02724723e-01 2.56854511e-01 2.74924395e-01 3.21585585e-01\n",
      "  3.01885613e-01]\n",
      " [2.64926718e-01 2.22905008e-01 2.40475799e-01 2.80619333e-01\n",
      "  2.65065360e-01]\n",
      " [2.28605987e-01 1.90873621e-01 2.07411978e-01 2.41486889e-01\n",
      "  2.29439826e-01]\n",
      " [1.94720572e-01 1.61468628e-01 1.76595940e-01 2.05178079e-01\n",
      "  1.95990550e-01]\n",
      " [1.63933183e-01 1.35123668e-01 1.48621218e-01 1.72351357e-01\n",
      "  1.65424889e-01]\n",
      " [1.36603410e-01 1.12015613e-01 1.23806177e-01 1.43337501e-01\n",
      "  1.38155239e-01]\n",
      " [1.12824640e-01 9.21118726e-02 1.02228468e-01 1.18187774e-01\n",
      "  1.14325924e-01]\n",
      " [9.24850139e-02 7.52294550e-02 8.37808473e-02 9.67436899e-02\n",
      "  9.38682299e-02]\n",
      " [7.53339979e-02 6.10922423e-02 6.82316789e-02 7.87093927e-02\n",
      "  7.65647051e-02]\n",
      " [6.10422209e-02 4.93787312e-02 5.52791029e-02 6.37146663e-02\n",
      "  6.21092286e-02]\n",
      " [4.92486264e-02 3.97574393e-02 4.45935699e-02 5.13633707e-02\n",
      "  5.01557004e-02]\n",
      " [3.95937480e-02 3.19104498e-02 3.58477664e-02 4.12668394e-02\n",
      "  4.03532848e-02]\n",
      " [3.17406815e-02 2.55471811e-02 2.87354038e-02 3.30643631e-02\n",
      "  3.23692530e-02]\n",
      " [2.53864492e-02 2.04109202e-02 2.29813383e-02 2.64338155e-02\n",
      "  2.59018877e-02]\n",
      " [2.02665526e-02 1.62804631e-02 1.83455619e-02 2.10954258e-02\n",
      "  2.06861906e-02]\n",
      " [1.61551065e-02 1.29687384e-02 1.46232257e-02 1.68111905e-02\n",
      "  1.64948223e-02]\n",
      " [1.28623784e-02 1.03197812e-02 1.16423444e-02 1.33817888e-02\n",
      "  1.31361702e-02]\n",
      " [1.02310140e-02 8.20498148e-03 9.26033122e-03 1.06422916e-02\n",
      "  1.04508998e-02]\n",
      " [8.13178590e-03 6.51918573e-03 7.36011773e-03 8.45749041e-03\n",
      "  8.30788901e-03]\n",
      " [6.45937187e-03 5.17698841e-03 5.84631138e-03 6.71734101e-03\n",
      "  6.60010060e-03]\n",
      " [5.12844252e-03 4.10938290e-03 4.64163991e-03 5.33278475e-03\n",
      "  5.24070737e-03]\n",
      " [4.07018776e-03 3.26083986e-03 3.68379851e-03 4.23206543e-03\n",
      "  4.15962278e-03]\n",
      " [3.22932179e-03 2.58681839e-03 2.92273306e-03 3.35756883e-03\n",
      "  3.30049207e-03]\n",
      " [2.56155294e-03 2.05168181e-03 2.31834631e-03 2.66316224e-03\n",
      "  2.61813978e-03]\n",
      " [2.03147798e-03 1.62697451e-03 1.83858973e-03 2.11198622e-03\n",
      "  2.07643895e-03]\n",
      " [1.61084911e-03 1.29001072e-03 1.45789342e-03 1.67464078e-03\n",
      "  1.64655347e-03]\n",
      " [1.27715974e-03 1.02272706e-03 1.15588522e-03 1.32770741e-03\n",
      "  1.30550111e-03]\n",
      " [1.01249767e-03 8.10754905e-04 9.16352132e-04 1.05255196e-03\n",
      "  1.03498682e-03]\n",
      " [8.02619863e-04 6.42673525e-04 7.26402564e-04 8.34359754e-04\n",
      "  8.20460419e-04]\n",
      " [6.36208772e-04 5.09410898e-04 5.75793035e-04 6.61360555e-04\n",
      "  6.50358606e-04]\n",
      " [5.04276459e-04 4.03764209e-04 4.56388704e-04 5.24207849e-04\n",
      "  5.15497187e-04]\n",
      " [3.99688195e-04 3.20016928e-04 3.61732115e-04 4.15482871e-04\n",
      "  4.08584970e-04]\n",
      " [3.16782321e-04 2.53633507e-04 2.86699099e-04 3.29298949e-04\n",
      "  3.23835716e-04]\n",
      " [2.51067349e-04 2.01016274e-04 2.27224601e-04 2.60986322e-04\n",
      "  2.56658836e-04]\n",
      " [1.98980888e-04 1.59312046e-04 1.80084467e-04 2.06841353e-04\n",
      "  2.03413171e-04]\n",
      " [1.57697937e-04 1.26258407e-04 1.42721935e-04 1.63927126e-04\n",
      "  1.61211153e-04]\n",
      " [1.24978562e-04 1.00061607e-04 1.13109765e-04 1.29915028e-04\n",
      "  1.27763170e-04]\n",
      " [9.90469183e-05 7.92996112e-05 8.96407396e-05 1.02958946e-04\n",
      "  1.01253952e-04]\n",
      " [7.84952153e-05 6.28451553e-05 7.10407538e-05 8.15954064e-05\n",
      "  8.02444267e-05]\n",
      " [6.22075141e-05 4.98046966e-05 5.62998390e-05 6.46643477e-05\n",
      "  6.35938443e-05]\n",
      " [4.92992693e-05 3.94699894e-05 4.46174488e-05 5.12462586e-05\n",
      "  5.03979814e-05]\n",
      " [3.90693794e-05 3.12796804e-05 3.53590608e-05 4.06123293e-05\n",
      "  3.99401334e-05]\n",
      " [3.09621614e-05 2.47888560e-05 2.80217622e-05 3.21849192e-05\n",
      "  3.16522463e-05]\n",
      " [2.45372010e-05 1.96448978e-05 2.22069629e-05 2.55062133e-05\n",
      "  2.50840986e-05]\n",
      " [1.94454488e-05 1.55683419e-05 1.75987611e-05 2.02133730e-05\n",
      "  1.98788666e-05]\n",
      " [1.54102714e-05 1.23377052e-05 1.39467943e-05 1.60188373e-05\n",
      "  1.57537544e-05]\n",
      " [1.22124305e-05 9.77745835e-06 1.10526444e-05 1.26947080e-05\n",
      "  1.24846391e-05]\n",
      " [9.67817614e-06 7.74849239e-06 8.75906208e-06 1.00603724e-05\n",
      "  9.89389945e-06]\n",
      " [7.66981034e-06 6.14056270e-06 6.94142600e-06 7.97269415e-06\n",
      "  7.84076904e-06]]\n",
      "[[ 4.72629554e-01  6.45145692e-01  6.84425029e-01  3.78170375e-01\n",
      "   5.23166182e-01]\n",
      " [ 4.72630514e-01  6.45148466e-01  6.84424878e-01  3.78169793e-01\n",
      "   5.23167271e-01]\n",
      " [ 4.72631725e-01  6.45151967e-01  6.84424688e-01  3.78169059e-01\n",
      "   5.23168644e-01]\n",
      " [ 4.72633253e-01  6.45156384e-01  6.84424448e-01  3.78168132e-01\n",
      "   5.23170376e-01]\n",
      " [ 4.72635181e-01  6.45161956e-01  6.84424143e-01  3.78166963e-01\n",
      "   5.23172561e-01]\n",
      " [ 4.72637613e-01  6.45168984e-01  6.84423758e-01  3.78165489e-01\n",
      "   5.23175317e-01]\n",
      " [ 4.72640681e-01  6.45177848e-01  6.84423269e-01  3.78163629e-01\n",
      "   5.23178792e-01]\n",
      " [ 4.72644550e-01  6.45189027e-01  6.84422648e-01  3.78161283e-01\n",
      "   5.23183173e-01]\n",
      " [ 4.72649428e-01  6.45203124e-01  6.84421858e-01  3.78158324e-01\n",
      "   5.23188695e-01]\n",
      " [ 4.72655579e-01  6.45220896e-01  6.84420851e-01  3.78154593e-01\n",
      "   5.23195653e-01]\n",
      " [ 4.72663333e-01  6.45243296e-01  6.84419565e-01  3.78149889e-01\n",
      "   5.23204418e-01]\n",
      " [ 4.72673105e-01  6.45271522e-01  6.84417918e-01  3.78143960e-01\n",
      "   5.23215453e-01]\n",
      " [ 4.72685415e-01  6.45307074e-01  6.84415799e-01  3.78136489e-01\n",
      "   5.23229338e-01]\n",
      " [ 4.72700916e-01  6.45351835e-01  6.84413062e-01  3.78127078e-01\n",
      "   5.23246798e-01]\n",
      " [ 4.72720425e-01  6.45408154e-01  6.84409508e-01  3.78115229e-01\n",
      "   5.23268731e-01]\n",
      " [ 4.72744961e-01  6.45478966e-01  6.84404866e-01  3.78100320e-01\n",
      "   5.23296251e-01]\n",
      " [ 4.72775795e-01  6.45567915e-01  6.84398760e-01  3.78081572e-01\n",
      "   5.23330731e-01]\n",
      " [ 4.72814499e-01  6.45679516e-01  6.84390663e-01  3.78058019e-01\n",
      "   5.23373850e-01]\n",
      " [ 4.72863018e-01  6.45819331e-01  6.84379829e-01  3.78028465e-01\n",
      "   5.23427645e-01]\n",
      " [ 4.72923740e-01  6.45994170e-01  6.84365193e-01  3.77991433e-01\n",
      "   5.23494560e-01]\n",
      " [ 4.72999573e-01  6.46212299e-01  6.84345224e-01  3.77945116e-01\n",
      "   5.23577485e-01]\n",
      " [ 4.73094030e-01  6.46483653e-01  6.84317699e-01  3.77887316e-01\n",
      "   5.23679763e-01]\n",
      " [ 4.73211302e-01  6.46820008e-01  6.84279387e-01  3.77815391e-01\n",
      "   5.23805156e-01]\n",
      " [ 4.73356317e-01  6.47235074e-01  6.84225581e-01  3.77726205e-01\n",
      "   5.23957729e-01]\n",
      " [ 4.73534748e-01  6.47744449e-01  6.84149446e-01  3.77616098e-01\n",
      "   5.24141593e-01]\n",
      " [ 4.73752966e-01  6.48365325e-01  6.84041101e-01  3.77480893e-01\n",
      "   5.24360469e-01]\n",
      " [ 4.74017870e-01  6.49115831e-01  6.83886395e-01  3.77315962e-01\n",
      "   5.24616958e-01]\n",
      " [ 4.74336574e-01  6.50013875e-01  6.83665321e-01  3.77116367e-01\n",
      "   5.24911465e-01]\n",
      " [ 4.74715876e-01  6.51075347e-01  6.83350051e-01  3.76877101e-01\n",
      "   5.25240646e-01]\n",
      " [ 4.75161476e-01  6.52311582e-01  6.82902657e-01  3.76593421e-01\n",
      "   5.25595343e-01]\n",
      " [ 4.75676872e-01  6.53726055e-01  6.82272617e-01  3.76261198e-01\n",
      "   5.25957946e-01]\n",
      " [ 4.76261870e-01  6.55310384e-01  6.81394280e-01  3.75877135e-01\n",
      "   5.26299187e-01]\n",
      " [ 4.76910603e-01  6.57039750e-01  6.80184402e-01  3.75438524e-01\n",
      "   5.26574361e-01]\n",
      " [ 4.77608810e-01  6.58867762e-01  6.78539692e-01  3.74942045e-01\n",
      "   5.26718902e-01]\n",
      " [ 4.78329975e-01  6.60720458e-01  6.76334020e-01  3.74380948e-01\n",
      "   5.26643126e-01]\n",
      " [ 4.79029720e-01  6.62488569e-01  6.73414658e-01  3.73739900e-01\n",
      "   5.26225866e-01]\n",
      " [ 4.79637761e-01  6.64016648e-01  6.69596999e-01  3.72986970e-01\n",
      "   5.25306933e-01]\n",
      " [ 4.80046937e-01  6.65087582e-01  6.64657688e-01  3.72062656e-01\n",
      "   5.23678969e-01]\n",
      " [ 4.80099423e-01  6.65401999e-01  6.58327148e-01  3.70866544e-01\n",
      "   5.21080314e-01]\n",
      " [ 4.79571185e-01  6.64554378e-01  6.50283588e-01  3.69242975e-01\n",
      "   5.17191557e-01]\n",
      " [ 4.78156920e-01  6.62011213e-01  6.40151485e-01  3.66967875e-01\n",
      "   5.11638756e-01]\n",
      " [ 4.75459023e-01  6.57100533e-01  6.27507858e-01  3.63739855e-01\n",
      "   5.04005598e-01]\n",
      " [ 4.70985717e-01  6.49025086e-01  6.11899802e-01  3.59179758e-01\n",
      "   4.93855317e-01]\n",
      " [ 4.64165115e-01  6.36911716e-01  5.92876671e-01  3.52844135e-01\n",
      "   4.80762082e-01]\n",
      " [ 4.54383077e-01  6.19904749e-01  5.70039792e-01  3.44258705e-01\n",
      "   4.64351566e-01]\n",
      " [ 4.41051148e-01  5.97300517e-01  5.43110160e-01  3.32976041e-01\n",
      "   4.44350900e-01]\n",
      " [ 4.23704046e-01  5.68704067e-01  5.12008785e-01  3.18655559e-01\n",
      "   4.20646994e-01]\n",
      " [ 4.02113513e-01  5.34172461e-01  4.76935157e-01  3.01153234e-01\n",
      "   3.93346931e-01]\n",
      " [ 3.76390571e-01  4.94299953e-01  4.38420408e-01  2.80597311e-01\n",
      "   3.62825952e-01]\n",
      " [ 3.47040265e-01  4.50207595e-01  3.97329710e-01  2.57421909e-01\n",
      "   3.29742485e-01]\n",
      " [ 3.14940492e-01  4.03425758e-01  3.54798787e-01  2.32339004e-01\n",
      "   2.95002880e-01]\n",
      " [ 2.81240156e-01  3.55693621e-01  3.12110559e-01  2.06249596e-01\n",
      "   2.59673044e-01]\n",
      " [ 2.47201223e-01  3.08727854e-01  2.70540119e-01  1.80117136e-01\n",
      "   2.24854018e-01]\n",
      " [ 2.14028511e-01  2.64019116e-01  2.31207404e-01  1.54838548e-01\n",
      "   1.91552664e-01]\n",
      " [ 1.82730727e-01  2.22698509e-01  1.94971541e-01  1.31144776e-01\n",
      "   1.60579130e-01]\n",
      " [ 1.54039240e-01  1.85487711e-01  1.62383297e-01  1.09547871e-01\n",
      "   1.32490591e-01]\n",
      " [ 1.28388411e-01  1.52720929e-01  1.33692584e-01  9.03343041e-02\n",
      "   1.07583787e-01]\n",
      " [ 1.05944074e-01  1.24413020e-01  1.08894839e-01  7.35923756e-02\n",
      "   8.59254551e-02]\n",
      " [ 8.66595926e-02  1.00346614e-01  8.77962631e-02  5.92575930e-02\n",
      "   6.74039951e-02]\n",
      " [ 7.03403054e-02  8.01575276e-02  7.00809427e-02  4.71620212e-02\n",
      "   5.17867723e-02]\n",
      " [ 5.67031179e-02  6.34064459e-02  5.53691145e-02  3.70784394e-02\n",
      "   3.87722315e-02]\n",
      " [ 4.54244322e-02  4.96324801e-02  4.32618199e-02  2.87550036e-02\n",
      "   2.80313385e-02]\n",
      " [ 3.61746502e-02  3.83891251e-02  3.33715504e-02  2.19396478e-02\n",
      "   1.92370459e-02]\n",
      " [ 2.86404610e-02  2.92656372e-02  2.53408605e-02  1.63954576e-02\n",
      "   1.20829741e-02]\n",
      " [ 2.25374231e-02  2.18975679e-02  1.88517956e-02  1.19090324e-02\n",
      "   6.29358625e-03]\n",
      " [ 1.76155628e-02  1.59699184e-02  1.36289426e-02  8.29389603e-03\n",
      "   1.62828213e-03]\n",
      " [ 1.36603668e-02  1.12157048e-02  9.43844087e-03  5.39070228e-03\n",
      "  -2.11847627e-03]\n",
      " [ 1.04910088e-02  7.41197320e-03  6.08470030e-03  3.06555899e-03\n",
      "  -5.11938387e-03]\n",
      " [ 7.95711576e-03  4.37464734e-03  3.40603627e-03  1.20739702e-03\n",
      "  -7.51770513e-03]\n",
      " [ 5.93493960e-03  1.95308312e-03  1.26999622e-03 -2.75013201e-04\n",
      "  -9.43112520e-03]\n",
      " [ 4.32346423e-03  2.48396313e-05 -4.31162496e-04 -1.45603256e-03\n",
      "  -1.09555791e-02]\n",
      " [ 3.04074856e-03 -1.50906868e-03 -1.78459968e-03 -2.39591051e-03\n",
      "  -1.21688047e-02]\n",
      " [ 2.02065187e-03 -2.72832932e-03 -2.86051928e-03 -3.14323476e-03\n",
      "  -1.31334990e-02]\n",
      " [ 1.20999347e-03 -3.69688235e-03 -3.71527542e-03 -3.73704461e-03\n",
      "  -1.39000422e-02]\n",
      " [ 5.66143296e-04 -4.46589887e-03 -4.39398320e-03 -4.20861672e-03\n",
      "  -1.45087997e-02]\n",
      " [ 5.50106201e-05 -5.07624707e-03 -4.93268371e-03 -4.58295158e-03\n",
      "  -1.49920389e-02]\n",
      " [-3.50614920e-04 -5.56051375e-03 -5.36012082e-03 -4.87999697e-03\n",
      "  -1.53755069e-02]\n",
      " [-6.72419530e-04 -5.94464918e-03 -5.69918840e-03 -5.11564658e-03\n",
      "  -1.56797192e-02]\n",
      " [-9.27666358e-04 -6.24929778e-03 -5.96810177e-03 -5.30254968e-03\n",
      "  -1.59210037e-02]\n",
      " [-1.13008478e-03 -6.49086980e-03 -6.18134184e-03 -5.45076452e-03\n",
      "  -1.61123442e-02]\n",
      " [-1.29058572e-03 -6.68240150e-03 -6.35041319e-03 -5.56828342e-03\n",
      "  -1.62640579e-02]\n",
      " [-1.41783514e-03 -6.83424366e-03 -6.48445101e-03 -5.66145358e-03\n",
      "  -1.63843384e-02]\n",
      " [-1.51871280e-03 -6.95461152e-03 -6.59070615e-03 -5.73531349e-03\n",
      "  -1.64796901e-02]\n",
      " [-1.59867840e-03 -7.05002331e-03 -6.67493194e-03 -5.79386138e-03\n",
      "  -1.65552745e-02]\n",
      " [-1.66206345e-03 -7.12564955e-03 -6.74169225e-03 -5.84026912e-03\n",
      "  -1.66151862e-02]\n",
      " [-1.71230362e-03 -7.18559086e-03 -6.79460671e-03 -5.87705245e-03\n",
      "  -1.66626730e-02]\n",
      " [-1.75212349e-03 -7.23309886e-03 -6.83654556e-03 -5.90620637e-03\n",
      "  -1.67003104e-02]\n",
      " [-1.78368345e-03 -7.27075161e-03 -6.86978457e-03 -5.92931272e-03\n",
      "  -1.67301404e-02]\n",
      " [-1.80869631e-03 -7.30059296e-03 -6.89612790e-03 -5.94762558e-03\n",
      "  -1.67537822e-02]\n",
      " [-1.82851991e-03 -7.32424309e-03 -6.91700580e-03 -5.96213915e-03\n",
      "  -1.67725190e-02]\n",
      " [-1.84423062e-03 -7.34298627e-03 -6.93355196e-03 -5.97364149e-03\n",
      "  -1.67873685e-02]\n",
      " [-1.85668161e-03 -7.35784046e-03 -6.94666501e-03 -5.98275727e-03\n",
      "  -1.67991369e-02]\n",
      " [-1.86654914e-03 -7.36961250e-03 -6.95705718e-03 -5.98998159e-03\n",
      "  -1.68084634e-02]\n",
      " [-1.87436920e-03 -7.37894185e-03 -6.96529300e-03 -5.99570689e-03\n",
      "  -1.68158547e-02]\n",
      " [-1.88056659e-03 -7.38633533e-03 -6.97181987e-03 -6.00024419e-03\n",
      "  -1.68217124e-02]\n",
      " [-1.88547800e-03 -7.39219462e-03 -6.97699237e-03 -6.00383997e-03\n",
      "  -1.68263545e-02]\n",
      " [-1.88937026e-03 -7.39683807e-03 -6.98109154e-03 -6.00668961e-03\n",
      "  -1.68300333e-02]\n",
      " [-1.89245484e-03 -7.40051795e-03 -6.98434010e-03 -6.00894791e-03\n",
      "  -1.68329488e-02]\n",
      " [-1.89489934e-03 -7.40343421e-03 -6.98691454e-03 -6.01073760e-03\n",
      "  -1.68352593e-02]\n",
      " [-1.89683658e-03 -7.40574531e-03 -6.98895475e-03 -6.01215590e-03\n",
      "  -1.68370903e-02]]\n"
     ]
    }
   ],
   "source": [
    "print(train_scores)\n",
    "print(test_scores)"
   ]
  },
  {
   "cell_type": "markdown",
   "id": "bff8def7",
   "metadata": {},
   "source": [
    "**So for each value of Lamda, we get four values of R_Square."
   ]
  },
  {
   "cell_type": "code",
   "execution_count": 56,
   "id": "488cc93a",
   "metadata": {},
   "outputs": [],
   "source": [
    "train_mean = np.mean(train_scores, axis = 1)"
   ]
  },
  {
   "cell_type": "code",
   "execution_count": 57,
   "id": "48d791e1",
   "metadata": {},
   "outputs": [],
   "source": [
    "test_mean = np.mean(test_scores, axis = 1)"
   ]
  },
  {
   "cell_type": "code",
   "execution_count": 58,
   "id": "f9c1e1d6",
   "metadata": {},
   "outputs": [
    {
     "data": {
      "text/plain": [
       "array([5.68873016e-01, 5.68873016e-01, 5.68873015e-01, 5.68873014e-01,\n",
       "       5.68873012e-01, 5.68873008e-01, 5.68873003e-01, 5.68872994e-01,\n",
       "       5.68872981e-01, 5.68872959e-01, 5.68872925e-01, 5.68872870e-01,\n",
       "       5.68872783e-01, 5.68872645e-01, 5.68872426e-01, 5.68872079e-01,\n",
       "       5.68871528e-01, 5.68870656e-01, 5.68869277e-01, 5.68867100e-01,\n",
       "       5.68863673e-01, 5.68858291e-01, 5.68849868e-01, 5.68836743e-01,\n",
       "       5.68816396e-01, 5.68785050e-01, 5.68737122e-01, 5.68664491e-01,\n",
       "       5.68555560e-01, 5.68394110e-01, 5.68157945e-01, 5.67817337e-01,\n",
       "       5.67333196e-01, 5.66654768e-01, 5.65716388e-01, 5.64432645e-01,\n",
       "       5.62691210e-01, 5.60342955e-01, 5.57189802e-01, 5.52971910e-01,\n",
       "       5.47357168e-01, 5.39937146e-01, 5.30234663e-01, 5.17728708e-01,\n",
       "       5.01901941e-01, 4.82313000e-01, 4.58688770e-01, 4.31020905e-01,\n",
       "       3.99640175e-01, 3.65239021e-01, 3.28823066e-01, 2.91594965e-01,\n",
       "       2.54798443e-01, 2.19563660e-01, 1.86790754e-01, 1.57090863e-01,\n",
       "       1.30783588e-01, 1.07935736e-01, 8.84214472e-02, 7.19864034e-02,\n",
       "       5.83047900e-02, 4.70237413e-02, 3.77944177e-02, 3.02913765e-02,\n",
       "       2.42228822e-02, 1.93348388e-02, 1.54106167e-02, 1.22684926e-02,\n",
       "       9.75790363e-03, 7.75529376e-03, 6.16002266e-03, 4.89059149e-03,\n",
       "       3.88130287e-03, 3.07938683e-03, 2.44257662e-03, 1.93709348e-03,\n",
       "       1.53598950e-03, 1.21779611e-03, 9.65428697e-04, 7.65303225e-04,\n",
       "       6.06626373e-04, 4.80826881e-04, 3.81101016e-04, 3.02049918e-04,\n",
       "       2.39390677e-04, 1.89726385e-04, 1.50363312e-04, 1.19165626e-04,\n",
       "       9.44400332e-05, 7.48441915e-05, 5.93140483e-05, 4.70061895e-05,\n",
       "       3.72521167e-05, 2.95219890e-05, 2.33958747e-05, 1.85409583e-05,\n",
       "       1.46934725e-05, 1.16443760e-05, 9.22800050e-06, 7.31305245e-06])"
      ]
     },
     "execution_count": 58,
     "metadata": {},
     "output_type": "execute_result"
    }
   ],
   "source": [
    "train_mean"
   ]
  },
  {
   "cell_type": "code",
   "execution_count": 95,
   "id": "d85b6a8a",
   "metadata": {},
   "outputs": [
    {
     "data": {
      "text/plain": [
       "0.5433354422713961"
      ]
     },
     "execution_count": 95,
     "metadata": {},
     "output_type": "execute_result"
    }
   ],
   "source": [
    "max(test_mean)"
   ]
  },
  {
   "cell_type": "markdown",
   "id": "5dca304c",
   "metadata": {},
   "source": [
    "**Above is the highest R_Squared value of our model."
   ]
  },
  {
   "cell_type": "code",
   "execution_count": 60,
   "id": "1cccf914",
   "metadata": {},
   "outputs": [
    {
     "data": {
      "text/plain": [
       "<seaborn.axisgrid.JointGrid at 0x25b1b06ea90>"
      ]
     },
     "execution_count": 60,
     "metadata": {},
     "output_type": "execute_result"
    },
    {
     "data": {
      "image/png": "[encoded data removed]",
      "text/plain": [
       "<Figure size 600x600 with 3 Axes>"
      ]
     },
     "metadata": {},
     "output_type": "display_data"
    }
   ],
   "source": [
    "sns.jointplot(x=np.log(param_range), y=test_mean, color=\"Red\")"
   ]
  },
  {
   "cell_type": "code",
   "execution_count": 96,
   "id": "e8b21e21",
   "metadata": {},
   "outputs": [
    {
     "data": {
      "text/plain": [
       "(array([33], dtype=int64),)"
      ]
     },
     "execution_count": 96,
     "metadata": {},
     "output_type": "execute_result"
    }
   ],
   "source": [
    "np.where(test_mean==max(test_mean))"
   ]
  },
  {
   "cell_type": "markdown",
   "id": "72c0554f",
   "metadata": {},
   "source": [
    "**The location of max R-Squared value is at 33rd index."
   ]
  },
  {
   "cell_type": "code",
   "execution_count": 62,
   "id": "958e2373",
   "metadata": {},
   "outputs": [
    {
     "data": {
      "text/plain": [
       "21.544346900318846"
      ]
     },
     "execution_count": 62,
     "metadata": {},
     "output_type": "execute_result"
    }
   ],
   "source": [
    "param_range[33]"
   ]
  },
  {
   "cell_type": "code",
   "execution_count": 63,
   "id": "36f64e95",
   "metadata": {},
   "outputs": [],
   "source": [
    "lm_r_best = Ridge(alpha = param_range[33])"
   ]
  },
  {
   "cell_type": "code",
   "execution_count": 146,
   "id": "1e9bb8e1",
   "metadata": {},
   "outputs": [
    {
     "data": {
      "text/plain": [
       "Ridge(alpha=21.544346900318846)"
      ]
     },
     "execution_count": 146,
     "metadata": {},
     "output_type": "execute_result"
    }
   ],
   "source": [
    "lm_r_best.fit(x_train_s, y_train)"
   ]
  },
  {
   "cell_type": "code",
   "execution_count": 65,
   "id": "7b4f1cc1",
   "metadata": {},
   "outputs": [
    {
     "data": {
      "text/plain": [
       "0.6521103492657925"
      ]
     },
     "execution_count": 65,
     "metadata": {},
     "output_type": "execute_result"
    }
   ],
   "source": [
    "r2_score(y_test, lm_r_best.predict(x_test_s))"
   ]
  },
  {
   "cell_type": "code",
   "execution_count": 164,
   "id": "13016810",
   "metadata": {},
   "outputs": [
    {
     "data": {
      "text/plain": [
       "0.5633508223801666"
      ]
     },
     "execution_count": 164,
     "metadata": {},
     "output_type": "execute_result"
    }
   ],
   "source": [
    "r2_score(y_train, lm_r_best.predict(x_train_s))"
   ]
  }
 ],
 "metadata": {
  "kernelspec": {
   "display_name": "Python 3 (ipykernel)",
   "language": "python",
   "name": "python3"
  },
  "language_info": {
   "codemirror_mode": {
    "name": "ipython",
    "version": 3
   },
   "file_extension": ".py",
   "mimetype": "text/x-python",
   "name": "python",
   "nbconvert_exporter": "python",
   "pygments_lexer": "ipython3",
   "version": "3.9.13"
  }
 },
 "nbformat": 4,
 "nbformat_minor": 5
}
